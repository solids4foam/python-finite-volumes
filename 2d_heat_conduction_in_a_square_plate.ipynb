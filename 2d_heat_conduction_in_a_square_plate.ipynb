{
  "cells": [
    {
      "cell_type": "code",
      "execution_count": 1,
      "id": "79ad4a76",
      "metadata": {
        "id": "79ad4a76"
      },
      "outputs": [],
      "source": [
        "import numpy as np\n",
        "import matplotlib\n",
        "import matplotlib.pyplot as plt\n",
        "import scipy\n",
        "from scipy.sparse import csr_matrix\n",
        "from scipy.sparse.linalg import spsolve\n",
        "import time\n",
        "from math import pi, sinh, sin,sqrt,floor\n",
        "import pandas as pd\n",
        "from functools import reduce\n",
        "\n",
        "%matplotlib inline\n",
        "# from sympy import symbols, sin, sinh, pi, latex  - commented as other functions reading sin, etc. as symbols when \n",
        "# calculating\n"
      ]
    },
    {
      "cell_type": "markdown",
      "id": "3a758bca",
      "metadata": {
        "id": "3a758bca"
      },
      "source": [
        "# Graphically compare numerical and analytical along middle of plate\n"
      ]
    },
    {
      "cell_type": "code",
      "execution_count": 2,
      "id": "770ebd87",
      "metadata": {
        "id": "770ebd87"
      },
      "outputs": [],
      "source": [
        "def NumericalvsAnalytical(Tfv,Tan,Nx):\n",
        "    \n",
        "    #get cells midway through element in x direction along y = Lx/2\n",
        "    cells = np.arange(floor(Nx/2)+1, Nx*(Ny+.5)-1,Nx) \n",
        "    #get T at each of these cells\n",
        "    Tmidfv = [Tfv[floor(i)] for i in cells]\n",
        "    Tmidan = [Tan[floor(i)] for i in cells]\n",
        "    \n",
        "    y = np.linspace(0,Nx,len(Tmidfv))\n",
        "    \n",
        "    #plot analytical vs numerical\n",
        "    plt.figure()\n",
        "    plt.plot(y, Tmidan, 'k', y, Tmidfv, 'kx', markersize = 5)\n",
        "    plt.title('Temperature along y=Lx/2 for analytical and numerical solution', fontsize = 12, weight = 600)\n",
        "    plt.xlabel('Cells along y=Lx/2', fontsize = 12, weight = 600)\n",
        "    plt.ylabel('Temperature', fontsize = 12, weight = 600)\n",
        "    plt.legend(['analytical', 'numerical'])\n",
        "    plt.savefig('midplate80.png')\n",
        "\n",
        "    plt.show()\n",
        "    \n",
        "\n",
        "\n",
        "    \n",
        "\n"
      ]
    },
    {
      "cell_type": "markdown",
      "id": "ef60a179",
      "metadata": {
        "id": "ef60a179"
      },
      "source": [
        "# Analytical Solution\n"
      ]
    },
    {
      "cell_type": "code",
      "execution_count": 3,
      "id": "d00f9cf2",
      "metadata": {
        "id": "d00f9cf2"
      },
      "outputs": [],
      "source": [
        "def AnalyticalHeatConduction(Tt,Tb,Tl,Tr,Lx,Ly,dx,dy,Nx,Ny):\n",
        "    #homogeneous boundary conditions\n",
        "    #Tt,Tb,Tl,Tr: top, bottom, left and right temperatures i.e. boundary conditions\n",
        "    #Lx, Ly: dimensions of element(length and width)\n",
        "    #dx, dy: mesh size of numerical solution (evaluate analytical at these points for comparison)\n",
        "    #M: no. of cells i.e. no. of T's that will be evaluated\n",
        "    \n",
        "    M = int(Nx*Ny)\n",
        "    #initialise temperature\n",
        "    phi = np.zeros((M,1)) #phi is dimensionless temperature used for conveniance\n",
        "    T = np.zeros((M,))\n",
        "    \n",
        "    #x coordinates\n",
        "    x = np.arange(dx/2, Lx, dx)\n",
        "    #y coordinates\n",
        "    y = np.arange(dy/2, Ly, dy)\n",
        "    celli = 0 #start at cell 0\n",
        "    #start row\n",
        "    for j in y:\n",
        "        #find for each cell along row\n",
        "        for i in x:\n",
        "            #compute series expansion to 50 terms\n",
        "            for n in range(1,100,1):\n",
        "                #phi[celli] += (2*sin(n*pi*i/Lx)*(1-(-1)**n)/(n*pi))*(sinh(n*pi*j/Lx)/sinh(n*pi*Ly/Lx)) #odd series \n",
        "                #analytical solution\n",
        "                phi[celli] += (2*sin(n*pi*i/Lx)*(1+(-1)**(n+1))/(n*pi))*(sinh(n*pi*j/Lx)/sinh(n*pi*Ly/Lx))#all series \n",
        "                #analytical solution used for better accuracy than odd series\n",
        "            #final phi found now find temperature\n",
        "            T[celli] = phi[celli]*(Tt-Tb)+Tb\n",
        "            #move to next cell\n",
        "            celli += 1\n",
        "    \n",
        "#     fig, ax = plt.subplots()\n",
        "\n",
        "#     ax.set_xlabel('Lx (m)', rotation=0, size=12)\n",
        "#     ax.set_ylabel('Ly (m)', rotation=90, size=12)\n",
        "#     colorinterpolation = 50\n",
        "#     colorMap = plt.cm.jet\n",
        "#     X,Y = np.meshgrid(np.arange(0,Nx),np.arange(0,Ny))\n",
        "#     T_anplot = np.reshape(T, (Nx, Ny))\n",
        "\n",
        "#     plt.contour(X,Y,T_anplot,colorinterpolation,cmap=colorMap)\n",
        "#     cbar = plt.colorbar()\n",
        "#     cbar.ax.get_yaxis().labelpad = 20\n",
        "#     cbar.ax.set_ylabel('Temperature (C)', rotation=270, size=12)\n",
        "\n",
        "#     plt.savefig('Tan')\n",
        "\n",
        "#     plt.show()\n",
        "\n",
        "\n",
        "    return T\n",
        "\n",
        "       #227 is maximum number of terms before math error occurs in calculation "
      ]
    },
    {
      "cell_type": "markdown",
      "id": "216a02c5",
      "metadata": {
        "id": "216a02c5"
      },
      "source": [
        "#     Nicely display Analytical Equation"
      ]
    },
    {
      "cell_type": "code",
      "execution_count": 4,
      "id": "7ff3c44e",
      "metadata": {
        "id": "7ff3c44e"
      },
      "outputs": [],
      "source": [
        "# n = symbols('n')\n",
        "# Lx= symbols('Lx')\n",
        "# i = symbols('i')\n",
        "# j = symbols('j')\n",
        "# Ly= symbols('Ly')\n",
        "# equation = \"(2*sin(n*pi*i/Lx)*(1+(-1)**(n+1))/(n*pi))*(sinh(n*pi*j/Lx)/sinh(n*pi*Ly/Lx))\"\n",
        "\n",
        "# print(latex(eval(equation)))"
      ]
    },
    {
      "cell_type": "markdown",
      "id": "bad7c296",
      "metadata": {
        "id": "bad7c296"
      },
      "source": [
        "$$ \\frac{2 \\left(\\left(-1\\right)^{n + 1} + 1\\right) \\sin{\\left(\\frac{\\pi i n}{Lx} \\right)} \\sinh{\\left(\\frac{\\pi j n}{Lx} \\right)}}{\\pi n \\sinh{\\left(\\frac{\\pi Ly n}{Lx} \\right)}}\n",
        " $$\n"
      ]
    },
    {
      "cell_type": "markdown",
      "id": "c1331755",
      "metadata": {
        "id": "c1331755"
      },
      "source": [
        "# FV steady state heat conduction normal implementation\n"
      ]
    },
    {
      "cell_type": "code",
      "execution_count": 5,
      "id": "19e82302",
      "metadata": {
        "id": "19e82302"
      },
      "outputs": [],
      "source": [
        "def Temperature(Lx,Ly,Nx,Ny,k,Tl,Tr,Tt,Tb):\n",
        "    #grid spacing\n",
        "    dx = Lx/Nx\n",
        "    dy = Ly/Ny\n",
        "    #Calculate coefficients\n",
        "    #east and west face coefficients equal i.e. along x direction\n",
        "    ax = k*dy/dx\n",
        "    #north and south face coefficients equal i.e. along y direction\n",
        "    ay = k*dx/dy\n",
        "    \n",
        "    ap = -2*(ax+ay)\n",
        "    \n",
        "#     print(ax,ay,ap)\n",
        "    # total number of cells\n",
        "    M = Nx*Ny\n",
        "    M = int(M)\n",
        "    #Initialise temperature vector\n",
        "    T = np.zeros((M, 1))\n",
        "    \n",
        "    #Initialise source vector\n",
        "    b = np.zeros((M, 1))\n",
        "    \n",
        "    #Initialise coefficient matrix\n",
        "    A = np.zeros((M, M))\n",
        "    #sparse matrix\n",
        "    #A = csr_matrix((M, M))\n",
        "    \n",
        "    #get indices of corner cells\n",
        "    botright = Nx-1\n",
        "    topleft = Nx*(Ny-1)\n",
        "    topright = Nx*Ny-1\n",
        "    \n",
        "    #QUESTION: IS IT BETTER TO COMPUTE INDICES OF BOTTOM RIGHT, BOTTOM LEFT, LEFT, RIGHT ETC AND STORE AS VARIABLES?\n",
        "    #Loop through each cell i\n",
        "    for i in range(0, M):\n",
        "        #CORNERS\n",
        "        #bottom left...  Te and Tn unknown, Tw and Tb known (at boundary)\n",
        "        if i == 0:\n",
        "            #compute constant for this equation\n",
        "            b[i] = -2*ay*Tb-2*ax*Tl\n",
        "            #insert coefficients \n",
        "            A[i][i] = ap-ax-ay #centre\n",
        "            A[i][i+1] = ax #east\n",
        "            A[i][i+Nx] = ay #north\n",
        "            \n",
        "        #bottom right\n",
        "        elif i == botright:\n",
        "            #compute constant for this equation\n",
        "            b[i] = -2*ay*Tb-2*ax*Tr\n",
        "            #insert coefficients\n",
        "            A[i][i] = ap-ax-ay #centre\n",
        "            A[i][i-1] = ax #west\n",
        "            A[i][i+Nx] = ay #north\n",
        "            \n",
        "        #top left\n",
        "        elif i == topleft:\n",
        "            #compute constant for this equation\n",
        "            b[i] = -2*ay*Tt-2*ax*Tl\n",
        "            #insert coefficients\n",
        "            A[i][i] = ap-ax-ay #centre\n",
        "            A[i][i+1] = ax #east\n",
        "            A[i][i-Nx] = ay #south\n",
        "        \n",
        "        #top right\n",
        "        elif i == topright:\n",
        "            #compute constant for this equation\n",
        "            b[i] = -2*ay*Tt-2*ax*Tr\n",
        "            #insert coefficients\n",
        "            A[i][i] = ap-ax-ay #centre\n",
        "            A[i][i-1] = ax #west\n",
        "            A[i][i-Nx] = ay #south\n",
        "        \n",
        "        #SIDES\n",
        "        #bottom\n",
        "        elif 0 < i < botright:\n",
        "            #compute constant for this equation\n",
        "            b[i] = -2*ay*Tb\n",
        "            #insert coefficients\n",
        "            A[i][i] = ap-ay #centre\n",
        "            A[i][i+Nx] = ay #north\n",
        "            A[i][i+1] = ax #east\n",
        "            A[i][i-1] = ax #west\n",
        "        \n",
        "        #top\n",
        "        elif topleft < i < topright:\n",
        "            #compute constant for this equation\n",
        "            b[i] = -2*ay*Tt\n",
        "            #insert coefficients\n",
        "            A[i][i] = ap-ay #centre\n",
        "            A[i][i-Nx] = ay #south\n",
        "            A[i][i+1] = ax #east\n",
        "            A[i][i-1] = ax #west\n",
        "        \n",
        "        #left\n",
        "        elif i in range(Nx,topleft,Nx):\n",
        "            #compute constant for this equation\n",
        "            b[i] = -2*ax*Tl\n",
        "            #insert coefficients\n",
        "            A[i][i] = ap-ax #centre\n",
        "            A[i][i-Nx] = ay #south\n",
        "            A[i][i+1] = ax #east\n",
        "            A[i][i+Nx] = ay #north\n",
        "            \n",
        "        #right\n",
        "        elif i in range(botright+Nx,topright,Nx):\n",
        "            \n",
        "            #compute constant for this equation\n",
        "            b[i] = -2*ax*Tr\n",
        "            #insert coefficients\n",
        "            A[i][i] = ap -ax#centre\n",
        "            A[i][i-Nx] = ay #south\n",
        "            A[i][i-1] = ax #west\n",
        "            A[i][i+Nx] = ay #north\n",
        "        else:\n",
        "            b[i] = 0\n",
        "            A[i][i] = ap #centre\n",
        "            A[i][i-Nx] = ay #south\n",
        "            A[i][i-1] = ax #west\n",
        "            A[i][i+Nx] = ay #north\n",
        "            A[i][i+1] = ax #east\n",
        "    \n",
        "    t = time.time()\n",
        "\n",
        "    T = np.linalg.solve(A,b)\n",
        "#     t_solve = time.time()\n",
        "    print('Time to solve the linear system = ', time.time() - t)\n",
        "#     print(t_solve)\n",
        "    \n",
        "    colorinterpolation = 50\n",
        "    colorMap = plt.cm.jet\n",
        "\n",
        "    X,Y = np.meshgrid(np.arange(0,Nx),np.arange(0,Ny))\n",
        "    T_plot = np.reshape(T, (Nx, Ny))\n",
        "    plt.contourf(X,Y,T_plot,colorinterpolation,cmap=colorMap)\n",
        "    plt.colorbar()\n",
        "    plt.show()\n",
        "    return T"
      ]
    },
    {
      "cell_type": "code",
      "execution_count": 6,
      "id": "85aaed54",
      "metadata": {
        "id": "85aaed54",
        "outputId": "1477c9d5-cf3e-47fb-e01d-3e873b4a4a8f",
        "colab": {
          "base_uri": "https://localhost:8080/",
          "height": 282
        }
      },
      "outputs": [
        {
          "output_type": "stream",
          "name": "stdout",
          "text": [
            "Time to solve the linear system =  0.30876684188842773\n"
          ]
        },
        {
          "output_type": "display_data",
          "data": {
            "text/plain": [
              "<Figure size 432x288 with 2 Axes>"
            ],
            "image/png": "[encoded data removed]"
          },
          "metadata": {
            "needs_background": "light"
          }
        }
      ],
      "source": [
        "Lx = 1\n",
        "Ly = 1\n",
        "Nx = 40 #when Nx and Ny = 164 the best convergence is achieved\n",
        "Ny = 40\n",
        "k = 1\n",
        "Tl = 50\n",
        "Tr = 0\n",
        "Tt = 0\n",
        "Tb = 0\n",
        "T = Temperature(Lx,Ly,Nx,Ny,k,Tl,Tr,Tt,Tb)\n"
      ]
    },
    {
      "cell_type": "markdown",
      "id": "593956b2",
      "metadata": {
        "id": "593956b2"
      },
      "source": [
        "# FV steady state heat conduction with scipy implementation"
      ]
    },
    {
      "cell_type": "code",
      "execution_count": 7,
      "id": "fa616f89",
      "metadata": {
        "id": "fa616f89"
      },
      "outputs": [],
      "source": [
        "def FVheatConduction(Lx,Ly,Nx,Ny,k,Tl,Tr,Tt,Tb):\n",
        "    #grid spacing\n",
        "    dx = Lx/Nx\n",
        "    dy = Ly/Ny\n",
        "    #Calculate coefficients\n",
        "    #east and west face coefficients equal i.e. along x direction\n",
        "    ax = k*dy/dx\n",
        "    #north and south face coefficients equal i.e. along y direction\n",
        "    ay = k*dx/dy\n",
        "    \n",
        "    ap = -2*(ax+ay)\n",
        "    # total number of cells\n",
        "    M = Nx*Ny\n",
        "    M = int(M)\n",
        "    \n",
        "    \n",
        "    #Initialise temperature vector\n",
        "    Tfv = np.zeros((M, 1))\n",
        "    \n",
        "    #Initialise source vector\n",
        "    b = np.zeros((M, 1))\n",
        "    \n",
        "    # 3 coeffs on each corner + 4 coeffs on each cell attached to a side\n",
        "    #+ 5 coeffs on each internal cell\n",
        "    internalandcorner = 3*4+5*(Nx-2)*(Ny-2)\n",
        "    sides =  4*(2*Nx+2*Ny-8)\n",
        "    numNonZeros = internalandcorner+sides\n",
        "    \n",
        "    data = np.zeros((numNonZeros))\n",
        "    row_idx = np.zeros((numNonZeros ))\n",
        "    col_idx = np.zeros((numNonZeros ))\n",
        "\n",
        "    \n",
        "    #get indices of corner cells\n",
        "    botright = Nx-1\n",
        "    topleft = Nx*(Ny-1)\n",
        "    topright = Nx*Ny-1\n",
        "    \n",
        "    #Loop through each cell i\n",
        "    coeffi=0\n",
        "    for i in range(0, M):\n",
        "        #CORNERS\n",
        "        #bottom left...  Te and Tn unknown, Tw and Tb known (at boundary)\n",
        "        if i == 0:\n",
        "            #compute constant for this equation\n",
        "            b[i] = -2*ay*Tb-2*ax*Tl\n",
        "            \n",
        "            #INSERT COEFFICIENTS\n",
        "            \n",
        "            #centre\n",
        "            data[coeffi] = -3*ax-3*ay\n",
        "            #set row and col position from sparse matrix\n",
        "            row_idx[coeffi] = i\n",
        "            col_idx[coeffi] = i\n",
        "            \n",
        "            coeffi+=1#move to next coefficient\n",
        "            \n",
        "            #east\n",
        "            data[coeffi] = ax \n",
        "            #set row and col position from sparse matrix\n",
        "            row_idx[coeffi] = i \n",
        "            col_idx[coeffi] = i+1 \n",
        "            \n",
        "            coeffi+=1#move to next coefficient\n",
        "            \n",
        "            #north\n",
        "            data[coeffi] = ay \n",
        "            #set row and col position from sparse matrix\n",
        "            row_idx[coeffi] = i \n",
        "            col_idx[coeffi] = i+Nx \n",
        "            \n",
        "            coeffi+=1#move to next coefficient\n",
        "            \n",
        "            \n",
        "            \n",
        "        #bottom right\n",
        "        elif i == botright:\n",
        "             #compute constant for this equation\n",
        "            b[i] = -2*ay*Tb-2*ax*Tr\n",
        "            \n",
        "            #INSERT COEFFICIENTS\n",
        "            \n",
        "            #centre\n",
        "            data[coeffi] = -3*ax-3*ay \n",
        "            #set row and col position from sparse matrix\n",
        "            row_idx[coeffi] = i\n",
        "            col_idx[coeffi] = i\n",
        "            \n",
        "            coeffi+=1#move to next coefficient\n",
        "            \n",
        "            #west\n",
        "            data[coeffi] = ax \n",
        "            #set row and col position from sparse matrix\n",
        "            row_idx[coeffi] = i \n",
        "            col_idx[coeffi] = i-1 \n",
        "            \n",
        "            coeffi+=1#move to next coefficient\n",
        "            \n",
        "            #north\n",
        "            data[coeffi] = ay \n",
        "            #set row and col position from sparse matrix\n",
        "            row_idx[coeffi] = i \n",
        "            col_idx[coeffi] = i+Nx \n",
        "            \n",
        "            coeffi+=1#move to next coefficient\n",
        "            \n",
        "            \n",
        "        #top left\n",
        "        elif i == topleft:\n",
        "             #compute constant for this equation\n",
        "            b[i] = -2*ay*Tt-2*ax*Tl\n",
        "            \n",
        "            #INSERT COEFFICIENTS\n",
        "            \n",
        "            #centre\n",
        "            data[coeffi] = -3*ax-3*ay \n",
        "            #set row and col position from sparse matrix\n",
        "            row_idx[coeffi] = i\n",
        "            col_idx[coeffi] = i\n",
        "            \n",
        "            coeffi+=1#move to next coefficient\n",
        "            \n",
        "            #east\n",
        "            data[coeffi] = ax \n",
        "            #set row and col position from sparse matrix\n",
        "            row_idx[coeffi] = i \n",
        "            col_idx[coeffi] = i+1 \n",
        "            \n",
        "            coeffi+=1#move to next coefficient\n",
        "            \n",
        "            #south\n",
        "            data[coeffi] = ay \n",
        "            #set row and col position from sparse matrix\n",
        "            row_idx[coeffi] = i \n",
        "            col_idx[coeffi] = i-Nx \n",
        "            \n",
        "            coeffi+=1#move to next coefficient\n",
        "            \n",
        "        \n",
        "        #top right\n",
        "        elif i == topright:\n",
        "             #compute constant for this equation\n",
        "            b[i] = -2*ay*Tt-2*ax*Tr\n",
        "            \n",
        "            #INSERT COEFFICIENTS\n",
        "            \n",
        "            #centre\n",
        "            data[coeffi] = -3*ax-3*ay \n",
        "            #set row and col position from sparse matrix\n",
        "            row_idx[coeffi] = i\n",
        "            col_idx[coeffi] = i\n",
        "            \n",
        "            coeffi+=1#move to next coefficient\n",
        "            \n",
        "            #west\n",
        "            data[coeffi] = ax \n",
        "            #set row and col position from sparse matrix\n",
        "            row_idx[coeffi] = i \n",
        "            col_idx[coeffi] = i-1 \n",
        "            \n",
        "            coeffi+=1#move to next coefficient\n",
        "            \n",
        "            #south\n",
        "            data[coeffi] = ay \n",
        "            #set row and col position from sparse matrix\n",
        "            row_idx[coeffi] = i \n",
        "            col_idx[coeffi] = i-Nx \n",
        "            \n",
        "            coeffi+=1#move to next coefficient\n",
        "            \n",
        "        \n",
        "        #SIDES\n",
        "        #bottom\n",
        "        elif 0 < i < botright:\n",
        "             #compute constant for this equation\n",
        "            b[i] = -2*ay*Tb\n",
        "            \n",
        "            #INSERT COEFFICIENTS\n",
        "            \n",
        "            #centre\n",
        "            data[coeffi] = -2*ax -(3.0)*ay \n",
        "            #set row and col position from sparse matrix\n",
        "            row_idx[coeffi] = i\n",
        "            col_idx[coeffi] = i\n",
        "            \n",
        "            coeffi+=1#move to next coefficient\n",
        "            \n",
        "            #west\n",
        "            data[coeffi] = ax \n",
        "            #set row and col position from sparse matrix\n",
        "            row_idx[coeffi] = i \n",
        "            col_idx[coeffi] = i-1 \n",
        "            \n",
        "            coeffi+=1#move to next coefficient\n",
        "            \n",
        "            #east\n",
        "            data[coeffi] = ax \n",
        "            #set row and col position from sparse matrix\n",
        "            row_idx[coeffi] = i \n",
        "            col_idx[coeffi] = i+1 \n",
        "            \n",
        "            coeffi+=1#move to next coefficient\n",
        "            \n",
        "            #north\n",
        "            data[coeffi] = ay \n",
        "            #set row and col position from sparse matrix\n",
        "            row_idx[coeffi] = i \n",
        "            col_idx[coeffi] = i+Nx \n",
        "            \n",
        "            coeffi+=1#move to next coefficient\n",
        "            \n",
        "        \n",
        "        #top\n",
        "        elif topleft < i < topright:\n",
        "            #compute constant for this equation\n",
        "            b[i] = -2*ay*Tt\n",
        "            #INSERT COEFFICIENTS\n",
        "            \n",
        "            #centre\n",
        "            data[coeffi] = -2*ax -(3.0)*ay \n",
        "            #set row and col position from sparse matrix\n",
        "            row_idx[coeffi] = i\n",
        "            col_idx[coeffi] = i\n",
        "            \n",
        "            coeffi+=1#move to next coefficient\n",
        "            \n",
        "            #west\n",
        "            data[coeffi] = ax \n",
        "            #set row and col position from sparse matrix\n",
        "            row_idx[coeffi] = i \n",
        "            col_idx[coeffi] = i-1 \n",
        "            \n",
        "            coeffi+=1#move to next coefficient\n",
        "            \n",
        "            #east\n",
        "            data[coeffi] = ax \n",
        "            #set row and col position from sparse matrix\n",
        "            row_idx[coeffi] = i \n",
        "            col_idx[coeffi] = i+1 \n",
        "            \n",
        "            coeffi+=1#move to next coefficient\n",
        "            \n",
        "            #south\n",
        "            data[coeffi] = ay \n",
        "            #set row and col position from sparse matrix\n",
        "            row_idx[coeffi] = i \n",
        "            col_idx[coeffi] = i-Nx \n",
        "            \n",
        "            coeffi+=1#move to next coefficien\n",
        "        #left\n",
        "        elif i in range(Nx,topleft,Nx):\n",
        "            #compute constant for this equation\n",
        "            b[i] = -2*ax*Tl\n",
        "            \n",
        "            #INSERT COEFFICIENTS\n",
        "            \n",
        "            #centre\n",
        "            data[coeffi] = -2*ay -(3.0)*ax \n",
        "            #set row and col position from sparse matrix\n",
        "            row_idx[coeffi] = i\n",
        "            col_idx[coeffi] = i\n",
        "            \n",
        "            coeffi+=1#move to next coefficient\n",
        "            \n",
        "            #south\n",
        "            data[coeffi] = ay \n",
        "            #set row and col position from sparse matrix\n",
        "            row_idx[coeffi] = i \n",
        "            col_idx[coeffi] = i-Nx \n",
        "            \n",
        "            coeffi+=1#move to next coefficient\n",
        "            \n",
        "            #east\n",
        "            data[coeffi] = ax \n",
        "            #set row and col position from sparse matrix\n",
        "            row_idx[coeffi] = i \n",
        "            col_idx[coeffi] = i+1 \n",
        "            \n",
        "            coeffi+=1#move to next coefficient\n",
        "            \n",
        "            #north\n",
        "            data[coeffi] = ay \n",
        "            #set row and col position from sparse matrix\n",
        "            row_idx[coeffi] = i \n",
        "            col_idx[coeffi] = i+Nx \n",
        "            \n",
        "            coeffi+=1#move to next coefficient\n",
        "            \n",
        "        #right\n",
        "        elif i in range(botright+Nx,topright,Nx):\n",
        "            #compute constant for this equation\n",
        "            b[i] = -2*ax*Tr\n",
        "             #INSERT COEFFICIENTS\n",
        "            \n",
        "            #centre\n",
        "            data[coeffi] = -2*ay -(3.0)*ax \n",
        "            #set row and col position from sparse matrix\n",
        "            row_idx[coeffi] = i\n",
        "            col_idx[coeffi] = i\n",
        "            \n",
        "            coeffi+=1#move to next coefficient\n",
        "            \n",
        "            #south\n",
        "            data[coeffi] = ay \n",
        "            #set row and col position from sparse matrix\n",
        "            row_idx[coeffi] = i \n",
        "            col_idx[coeffi] = i-Nx \n",
        "            \n",
        "            coeffi+=1#move to next coefficient\n",
        "            \n",
        "            #west\n",
        "            data[coeffi] = ax \n",
        "            #set row and col position from sparse matrix\n",
        "            row_idx[coeffi] = i \n",
        "            col_idx[coeffi] = i-1 \n",
        "            \n",
        "            coeffi+=1#move to next coefficient\n",
        "            \n",
        "            #north\n",
        "            data[coeffi] = ay \n",
        "            #set row and col position from sparse matrix\n",
        "            row_idx[coeffi] = i \n",
        "            col_idx[coeffi] = i+Nx \n",
        "            \n",
        "            coeffi+=1#move to next coefficient\n",
        "        else:\n",
        "            b[i] = 0\n",
        "             #INSERT COEFFICIENTS\n",
        "            \n",
        "            #centre\n",
        "            data[coeffi] = ap \n",
        "            #set row and col position from sparse matrix\n",
        "            row_idx[coeffi] = i\n",
        "            col_idx[coeffi] = i\n",
        "            \n",
        "            coeffi+=1#move to next coefficient\n",
        "            \n",
        "            #south\n",
        "            data[coeffi] = ax \n",
        "            #set row and col position from sparse matrix\n",
        "            row_idx[coeffi] = i \n",
        "            col_idx[coeffi] = i-Nx \n",
        "            \n",
        "            coeffi+=1#move to next coefficient\n",
        "            \n",
        "            #west\n",
        "            data[coeffi] = ax \n",
        "            #set row and col position from sparse matrix\n",
        "            row_idx[coeffi] = i \n",
        "            col_idx[coeffi] = i-1 \n",
        "            \n",
        "            coeffi+=1#move to next coefficient\n",
        "            \n",
        "            #north\n",
        "            data[coeffi] = ay \n",
        "            #set row and col position from sparse matrix\n",
        "            row_idx[coeffi] = i \n",
        "            col_idx[coeffi] = i+Nx \n",
        "            \n",
        "            coeffi+=1#move to next coefficient\n",
        "            \n",
        "            #east\n",
        "            data[coeffi] = ax \n",
        "            #set row and col position from sparse matrix\n",
        "            row_idx[coeffi] = i \n",
        "            col_idx[coeffi] = i+1 \n",
        "            \n",
        "            coeffi+=1#move to next coefficient\n",
        "    \n",
        "\n",
        "    #create sparse coefficient matrix\n",
        "    A = csr_matrix((data, (row_idx, col_idx)), shape=(M, M))\n",
        "\n",
        "    t = time.time()\n",
        "    #solve set of simultaneous equations\n",
        "    Tfv = scipy.sparse.linalg.spsolve(A, b)\n",
        "    print('Time to solve the linear system = ', time.time() - t)\n",
        "        \n",
        "    T_an = AnalyticalHeatConduction(Tt,Tb,Tl,Tr,Lx,Ly,Lx/Nx,Ly/Ny,Nx,Ny)\n",
        "\n",
        "    #ERROR\n",
        "    mse = ((T_an - Tfv)**2).mean(axis=0)\n",
        "    l2_norm = np.linalg.norm(abs(T_an-Tfv))\n",
        "    inf_norm = np.linalg.norm(abs(T_an-Tfv),np.inf) \n",
        "    \n",
        "    #VISUALISATION\n",
        "    plt.figure()\n",
        "    NumericalvsAnalytical(Tfv,T_an,Nx)\n",
        "    \n",
        "    colorinterpolation = 50\n",
        "    colorMap = plt.cm.jet\n",
        "\n",
        "    X,Y = np.meshgrid(np.arange(0,Nx),np.arange(0,Ny))\n",
        "    T_fvplot = np.reshape(Tfv, (Nx, Ny))\n",
        "    T_anplot = np.reshape(T_an, (Nx, Ny))\n",
        "    \n",
        "    plt.figure()\n",
        "#     plt.contourf(X, Y, T_plot, cmap='inferno')\n",
        "    plt.contourf(X,Y,T_fvplot,cmap='inferno')\n",
        "    plt.colorbar()\n",
        "    plt.title('Numerical',fontsize= 13)\n",
        "    plt.savefig(\"SSTemp.png\")\n",
        "    plt.show()\n",
        "    plt.figure()\n",
        "    plt.contourf(X,Y,T_anplot,cmap='inferno')\n",
        "    plt.title('Analytical',fontsize= 13)\n",
        "    plt.colorbar()\n",
        "    plt.savefig(\"AnTemp.png\")\n",
        "    plt.show()\n",
        "    plt.figure()\n",
        "    plt.contour(X,Y,abs(T_anplot-T_fvplot),cmap='inferno')\n",
        "    plt.colorbar()\n",
        "    plt.show()\n",
        "    plt.contour\n",
        "        \n",
        "\n",
        "    return Tfv,mse,l2_norm,inf_norm"
      ]
    },
    {
      "cell_type": "code",
      "execution_count": 8,
      "id": "831a2b12",
      "metadata": {
        "id": "831a2b12",
        "outputId": "89fc4406-1360-4213-d63b-79f1cf1a2c8f",
        "colab": {
          "base_uri": "https://localhost:8080/",
          "height": 1000
        }
      },
      "outputs": [
        {
          "output_type": "stream",
          "name": "stdout",
          "text": [
            "Time to solve the linear system =  0.0032126903533935547\n"
          ]
        },
        {
          "output_type": "display_data",
          "data": {
            "text/plain": [
              "<Figure size 432x288 with 0 Axes>"
            ]
          },
          "metadata": {}
        },
        {
          "output_type": "display_data",
          "data": {
            "text/plain": [
              "<Figure size 432x288 with 1 Axes>"
            ],
            "image/png": "[encoded data removed]"
          },
          "metadata": {
            "needs_background": "light"
          }
        },
        {
          "output_type": "display_data",
          "data": {
            "text/plain": [
              "<Figure size 432x288 with 2 Axes>"
            ],
            "image/png": "[encoded data removed]"
          },
          "metadata": {
            "needs_background": "light"
          }
        },
        {
          "output_type": "display_data",
          "data": {
            "text/plain": [
              "<Figure size 432x288 with 2 Axes>"
            ],
            "image/png": "[encoded data removed]"
          },
          "metadata": {
            "needs_background": "light"
          }
        },
        {
          "output_type": "display_data",
          "data": {
            "text/plain": [
              "<Figure size 432x288 with 2 Axes>"
            ],
            "image/png": "[encoded data removed]"
          },
          "metadata": {
            "needs_background": "light"
          }
        }
      ],
      "source": [
        "#Define inputs\n",
        "\n",
        "Lx = 1\n",
        "Ly = 1\n",
        "Nx = 20#when Nx and Ny = 164 the best convergence is achieved\n",
        "Ny = 20\n",
        "k = 1\n",
        "Tl = 0\n",
        "Tr = 0\n",
        "Tt = 70\n",
        "Tb = 0\n",
        "\n",
        "Tfv,mse,l2_norm,inf_norm = FVheatConduction(Lx,Ly,Nx,Ny,k,Tl,Tr,Tt,Tb)\n",
        "\n"
      ]
    },
    {
      "cell_type": "markdown",
      "id": "ced0ebe5",
      "metadata": {
        "id": "ced0ebe5"
      },
      "source": [
        "This version of FV heat conduction just computes numerical solution and does no error analysis in comparison with analytical solutioin"
      ]
    },
    {
      "cell_type": "code",
      "execution_count": 9,
      "id": "fa5f6adb",
      "metadata": {
        "id": "fa5f6adb"
      },
      "outputs": [],
      "source": [
        "def JustFVheatConduction(Lx,Ly,Nx,Ny,k,Tl,Tr,Tt,Tb):\n",
        "    #grid spacing\n",
        "    dx = Lx/Nx\n",
        "    dy = Ly/Ny\n",
        "    #Calculate coefficients\n",
        "    #east and west face coefficients equal i.e. along x direction\n",
        "    ax = k*dy/dx\n",
        "    #north and south face coefficients equal i.e. along y direction\n",
        "    ay = k*dx/dy\n",
        "    \n",
        "    ap = -2*(ax+ay)\n",
        "    # total number of cells\n",
        "    M = Nx*Ny\n",
        "    M = int(M)\n",
        "    \n",
        "    \n",
        "    #Initialise temperature vector\n",
        "    Tfv = np.zeros((M, 1))\n",
        "    \n",
        "    #Initialise source vector\n",
        "    b = np.zeros((M, 1))\n",
        "    \n",
        "    # 3 coeffs on each corner + 4 coeffs on each cell attached to a side\n",
        "    #+ 5 coeffs on each internal cell\n",
        "    internalandcorner = 3*4+5*(Nx-2)*(Ny-2)\n",
        "    sides =  4*(2*Nx+2*Ny-8)\n",
        "    numNonZeros = internalandcorner+sides\n",
        "    \n",
        "    data = np.zeros((numNonZeros))\n",
        "    row_idx = np.zeros((numNonZeros ))\n",
        "    col_idx = np.zeros((numNonZeros ))\n",
        "\n",
        "    \n",
        "    #get indices of corner cells\n",
        "    botright = Nx-1\n",
        "    topleft = Nx*(Ny-1)\n",
        "    topright = Nx*Ny-1\n",
        "    \n",
        "    #Loop through each cell i\n",
        "    coeffi=0\n",
        "    for i in range(0, M):\n",
        "        #CORNERS\n",
        "        #bottom left...  Te and Tn unknown, Tw and Tb known (at boundary)\n",
        "        if i == 0:\n",
        "            #compute constant for this equation\n",
        "            b[i] = -2*ay*Tb-2*ax*Tl\n",
        "            \n",
        "            #INSERT COEFFICIENTS\n",
        "            \n",
        "            #centre\n",
        "            data[coeffi] = -3*ax-3*ay\n",
        "            #set row and col position from sparse matrix\n",
        "            row_idx[coeffi] = i\n",
        "            col_idx[coeffi] = i\n",
        "            \n",
        "            coeffi+=1#move to next coefficient\n",
        "            \n",
        "            #east\n",
        "            data[coeffi] = ax \n",
        "            #set row and col position from sparse matrix\n",
        "            row_idx[coeffi] = i \n",
        "            col_idx[coeffi] = i+1 \n",
        "            \n",
        "            coeffi+=1#move to next coefficient\n",
        "            \n",
        "            #north\n",
        "            data[coeffi] = ay \n",
        "            #set row and col position from sparse matrix\n",
        "            row_idx[coeffi] = i \n",
        "            col_idx[coeffi] = i+Nx \n",
        "            \n",
        "            coeffi+=1#move to next coefficient\n",
        "            \n",
        "            \n",
        "            \n",
        "        #bottom right\n",
        "        elif i == botright:\n",
        "             #compute constant for this equation\n",
        "            b[i] = -2*ay*Tb-2*ax*Tr\n",
        "            \n",
        "            #INSERT COEFFICIENTS\n",
        "            \n",
        "            #centre\n",
        "            data[coeffi] = -3*ax-3*ay \n",
        "            #set row and col position from sparse matrix\n",
        "            row_idx[coeffi] = i\n",
        "            col_idx[coeffi] = i\n",
        "            \n",
        "            coeffi+=1#move to next coefficient\n",
        "            \n",
        "            #west\n",
        "            data[coeffi] = ax \n",
        "            #set row and col position from sparse matrix\n",
        "            row_idx[coeffi] = i \n",
        "            col_idx[coeffi] = i-1 \n",
        "            \n",
        "            coeffi+=1#move to next coefficient\n",
        "            \n",
        "            #north\n",
        "            data[coeffi] = ay \n",
        "            #set row and col position from sparse matrix\n",
        "            row_idx[coeffi] = i \n",
        "            col_idx[coeffi] = i+Nx \n",
        "            \n",
        "            coeffi+=1#move to next coefficient\n",
        "            \n",
        "            \n",
        "        #top left\n",
        "        elif i == topleft:\n",
        "             #compute constant for this equation\n",
        "            b[i] = -2*ay*Tt-2*ax*Tl\n",
        "            \n",
        "            #INSERT COEFFICIENTS\n",
        "            \n",
        "            #centre\n",
        "            data[coeffi] = -3*ax-3*ay \n",
        "            #set row and col position from sparse matrix\n",
        "            row_idx[coeffi] = i\n",
        "            col_idx[coeffi] = i\n",
        "            \n",
        "            coeffi+=1#move to next coefficient\n",
        "            \n",
        "            #east\n",
        "            data[coeffi] = ax \n",
        "            #set row and col position from sparse matrix\n",
        "            row_idx[coeffi] = i \n",
        "            col_idx[coeffi] = i+1 \n",
        "            \n",
        "            coeffi+=1#move to next coefficient\n",
        "            \n",
        "            #south\n",
        "            data[coeffi] = ay \n",
        "            #set row and col position from sparse matrix\n",
        "            row_idx[coeffi] = i \n",
        "            col_idx[coeffi] = i-Nx \n",
        "            \n",
        "            coeffi+=1#move to next coefficient\n",
        "            \n",
        "        \n",
        "        #top right\n",
        "        elif i == topright:\n",
        "             #compute constant for this equation\n",
        "            b[i] = -2*ay*Tt-2*ax*Tr\n",
        "            \n",
        "            #INSERT COEFFICIENTS\n",
        "            \n",
        "            #centre\n",
        "            data[coeffi] = -3*ax-3*ay \n",
        "            #set row and col position from sparse matrix\n",
        "            row_idx[coeffi] = i\n",
        "            col_idx[coeffi] = i\n",
        "            \n",
        "            coeffi+=1#move to next coefficient\n",
        "            \n",
        "            #west\n",
        "            data[coeffi] = ax \n",
        "            #set row and col position from sparse matrix\n",
        "            row_idx[coeffi] = i \n",
        "            col_idx[coeffi] = i-1 \n",
        "            \n",
        "            coeffi+=1#move to next coefficient\n",
        "            \n",
        "            #south\n",
        "            data[coeffi] = ay \n",
        "            #set row and col position from sparse matrix\n",
        "            row_idx[coeffi] = i \n",
        "            col_idx[coeffi] = i-Nx \n",
        "            \n",
        "            coeffi+=1#move to next coefficient\n",
        "            \n",
        "        \n",
        "        #SIDES\n",
        "        #bottom\n",
        "        elif 0 < i < botright:\n",
        "             #compute constant for this equation\n",
        "            b[i] = -2*ay*Tb\n",
        "            \n",
        "            #INSERT COEFFICIENTS\n",
        "            \n",
        "            #centre\n",
        "            data[coeffi] = -2*ax -(3.0)*ay \n",
        "            #set row and col position from sparse matrix\n",
        "            row_idx[coeffi] = i\n",
        "            col_idx[coeffi] = i\n",
        "            \n",
        "            coeffi+=1#move to next coefficient\n",
        "            \n",
        "            #west\n",
        "            data[coeffi] = ax \n",
        "            #set row and col position from sparse matrix\n",
        "            row_idx[coeffi] = i \n",
        "            col_idx[coeffi] = i-1 \n",
        "            \n",
        "            coeffi+=1#move to next coefficient\n",
        "            \n",
        "            #east\n",
        "            data[coeffi] = ax \n",
        "            #set row and col position from sparse matrix\n",
        "            row_idx[coeffi] = i \n",
        "            col_idx[coeffi] = i+1 \n",
        "            \n",
        "            coeffi+=1#move to next coefficient\n",
        "            \n",
        "            #north\n",
        "            data[coeffi] = ay \n",
        "            #set row and col position from sparse matrix\n",
        "            row_idx[coeffi] = i \n",
        "            col_idx[coeffi] = i+Nx \n",
        "            \n",
        "            coeffi+=1#move to next coefficient\n",
        "            \n",
        "        \n",
        "        #top\n",
        "        elif topleft < i < topright:\n",
        "            #compute constant for this equation\n",
        "            b[i] = -2*ay*Tt\n",
        "            #INSERT COEFFICIENTS\n",
        "            \n",
        "            #centre\n",
        "            data[coeffi] = -2*ax -(3.0)*ay \n",
        "            #set row and col position from sparse matrix\n",
        "            row_idx[coeffi] = i\n",
        "            col_idx[coeffi] = i\n",
        "            \n",
        "            coeffi+=1#move to next coefficient\n",
        "            \n",
        "            #west\n",
        "            data[coeffi] = ax \n",
        "            #set row and col position from sparse matrix\n",
        "            row_idx[coeffi] = i \n",
        "            col_idx[coeffi] = i-1 \n",
        "            \n",
        "            coeffi+=1#move to next coefficient\n",
        "            \n",
        "            #east\n",
        "            data[coeffi] = ax \n",
        "            #set row and col position from sparse matrix\n",
        "            row_idx[coeffi] = i \n",
        "            col_idx[coeffi] = i+1 \n",
        "            \n",
        "            coeffi+=1#move to next coefficient\n",
        "            \n",
        "            #south\n",
        "            data[coeffi] = ay \n",
        "            #set row and col position from sparse matrix\n",
        "            row_idx[coeffi] = i \n",
        "            col_idx[coeffi] = i-Nx \n",
        "            \n",
        "            coeffi+=1#move to next coefficien\n",
        "        #left\n",
        "        elif i in range(Nx,topleft,Nx):\n",
        "            #compute constant for this equation\n",
        "            b[i] = -2*ax*Tl\n",
        "            \n",
        "            #INSERT COEFFICIENTS\n",
        "            \n",
        "            #centre\n",
        "            data[coeffi] = -2*ay -(3.0)*ax \n",
        "            #set row and col position from sparse matrix\n",
        "            row_idx[coeffi] = i\n",
        "            col_idx[coeffi] = i\n",
        "            \n",
        "            coeffi+=1#move to next coefficient\n",
        "            \n",
        "            #south\n",
        "            data[coeffi] = ay \n",
        "            #set row and col position from sparse matrix\n",
        "            row_idx[coeffi] = i \n",
        "            col_idx[coeffi] = i-Nx \n",
        "            \n",
        "            coeffi+=1#move to next coefficient\n",
        "            \n",
        "            #east\n",
        "            data[coeffi] = ax \n",
        "            #set row and col position from sparse matrix\n",
        "            row_idx[coeffi] = i \n",
        "            col_idx[coeffi] = i+1 \n",
        "            \n",
        "            coeffi+=1#move to next coefficient\n",
        "            \n",
        "            #north\n",
        "            data[coeffi] = ay \n",
        "            #set row and col position from sparse matrix\n",
        "            row_idx[coeffi] = i \n",
        "            col_idx[coeffi] = i+Nx \n",
        "            \n",
        "            coeffi+=1#move to next coefficient\n",
        "            \n",
        "        #right\n",
        "        elif i in range(botright+Nx,topright,Nx):\n",
        "            #compute constant for this equation\n",
        "            b[i] = -2*ax*Tr\n",
        "             #INSERT COEFFICIENTS\n",
        "            \n",
        "            #centre\n",
        "            data[coeffi] = -2*ay -(3.0)*ax \n",
        "            #set row and col position from sparse matrix\n",
        "            row_idx[coeffi] = i\n",
        "            col_idx[coeffi] = i\n",
        "            \n",
        "            coeffi+=1#move to next coefficient\n",
        "            \n",
        "            #south\n",
        "            data[coeffi] = ay \n",
        "            #set row and col position from sparse matrix\n",
        "            row_idx[coeffi] = i \n",
        "            col_idx[coeffi] = i-Nx \n",
        "            \n",
        "            coeffi+=1#move to next coefficient\n",
        "            \n",
        "            #west\n",
        "            data[coeffi] = ax \n",
        "            #set row and col position from sparse matrix\n",
        "            row_idx[coeffi] = i \n",
        "            col_idx[coeffi] = i-1 \n",
        "            \n",
        "            coeffi+=1#move to next coefficient\n",
        "            \n",
        "            #north\n",
        "            data[coeffi] = ay \n",
        "            #set row and col position from sparse matrix\n",
        "            row_idx[coeffi] = i \n",
        "            col_idx[coeffi] = i+Nx \n",
        "            \n",
        "            coeffi+=1#move to next coefficient\n",
        "        else:\n",
        "            b[i] = 0\n",
        "             #INSERT COEFFICIENTS\n",
        "            \n",
        "            #centre\n",
        "            data[coeffi] = ap \n",
        "            #set row and col position from sparse matrix\n",
        "            row_idx[coeffi] = i\n",
        "            col_idx[coeffi] = i\n",
        "            \n",
        "            coeffi+=1#move to next coefficient\n",
        "            \n",
        "            #south\n",
        "            data[coeffi] = ax \n",
        "            #set row and col position from sparse matrix\n",
        "            row_idx[coeffi] = i \n",
        "            col_idx[coeffi] = i-Nx \n",
        "            \n",
        "            coeffi+=1#move to next coefficient\n",
        "            \n",
        "            #west\n",
        "            data[coeffi] = ax \n",
        "            #set row and col position from sparse matrix\n",
        "            row_idx[coeffi] = i \n",
        "            col_idx[coeffi] = i-1 \n",
        "            \n",
        "            coeffi+=1#move to next coefficient\n",
        "            \n",
        "            #north\n",
        "            data[coeffi] = ay \n",
        "            #set row and col position from sparse matrix\n",
        "            row_idx[coeffi] = i \n",
        "            col_idx[coeffi] = i+Nx \n",
        "            \n",
        "            coeffi+=1#move to next coefficient\n",
        "            \n",
        "            #east\n",
        "            data[coeffi] = ax \n",
        "            #set row and col position from sparse matrix\n",
        "            row_idx[coeffi] = i \n",
        "            col_idx[coeffi] = i+1 \n",
        "            \n",
        "            coeffi+=1#move to next coefficient\n",
        "    \n",
        "\n",
        "    #create sparse coefficient matrix\n",
        "    A = csr_matrix((data, (row_idx, col_idx)), shape=(M, M))\n",
        "\n",
        "    t = time.time()\n",
        "    #solve set of simultaneous equations\n",
        "    Tfv = scipy.sparse.linalg.spsolve(A, b)\n",
        "    print('Time to solve the linear system = ', time.time() - t)\n",
        "        \n",
        "\n",
        "    \n",
        "    \n",
        "    #VISUALISATION\n",
        "    plt.figure()\n",
        "    \n",
        "    colorinterpolation = 50\n",
        "    colorMap = plt.cm.jet\n",
        "\n",
        "    X,Y = np.meshgrid(np.arange(0,Nx),np.arange(0,Ny))\n",
        "    T_fvplot = np.reshape(Tfv, (Nx, Ny))\n",
        "    \n",
        "    plt.figure()\n",
        "#     plt.contourf(X, Y, T_plot, cmap='inferno')\n",
        "    plt.contourf(X,Y,T_fvplot,cmap='inferno')\n",
        "    plt.colorbar()\n",
        "    plt.title('Numerical',fontsize= 13)\n",
        "    \n",
        "\n",
        "    return Tfv"
      ]
    },
    {
      "cell_type": "markdown",
      "id": "32bb45d8",
      "metadata": {
        "id": "32bb45d8"
      },
      "source": [
        "\n",
        "\n",
        "FV steady state heat conduction tested vs analytical solution and compared graphically"
      ]
    },
    {
      "cell_type": "markdown",
      "id": "55c33695",
      "metadata": {
        "id": "55c33695"
      },
      "source": [
        "# Cell to Test Functions\n"
      ]
    },
    {
      "cell_type": "code",
      "execution_count": 10,
      "id": "4343befb",
      "metadata": {
        "scrolled": true,
        "id": "4343befb",
        "outputId": "8f8a0d7e-4410-494b-c35b-80268a9e2147",
        "colab": {
          "base_uri": "https://localhost:8080/",
          "height": 315
        }
      },
      "outputs": [
        {
          "output_type": "stream",
          "name": "stdout",
          "text": [
            "Time to solve the linear system =  0.010350704193115234\n"
          ]
        },
        {
          "output_type": "display_data",
          "data": {
            "text/plain": [
              "<Figure size 432x288 with 0 Axes>"
            ]
          },
          "metadata": {}
        },
        {
          "output_type": "display_data",
          "data": {
            "text/plain": [
              "<Figure size 432x288 with 2 Axes>"
            ],
            "image/png": "[encoded data removed]"
          },
          "metadata": {
            "needs_background": "light"
          }
        }
      ],
      "source": [
        "#Define inputs\n",
        "\n",
        "Lx = 1\n",
        "Ly = 1\n",
        "Nx = 3 #when Nx and Ny = 164 the best convergence is achieved\n",
        "Ny = 3\n",
        "k = 1\n",
        "Tl = 0\n",
        "Tr = 0\n",
        "Tt = 70\n",
        "Tb = 0\n",
        "\n",
        "Tfv = JustFVheatConduction(Lx,Ly,Nx,Ny,k,Tl,Tr,Tt,Tb)\n",
        "\n"
      ]
    },
    {
      "cell_type": "markdown",
      "id": "8d112ced",
      "metadata": {
        "id": "8d112ced"
      },
      "source": [
        "# Analysing 2nd Order Convergence"
      ]
    },
    {
      "cell_type": "markdown",
      "id": "700d838f",
      "metadata": {
        "id": "700d838f"
      },
      "source": [
        "Mean squared error is found for 4 meshes, each time the no. of cells doubling in each direction i.e. the cell size is being halved, and this error is plotted on a log-log plot to demonstrate second order convergence of the solution"
      ]
    },
    {
      "cell_type": "code",
      "execution_count": 11,
      "id": "3054802a",
      "metadata": {
        "id": "3054802a",
        "outputId": "a773cd18-9d2c-442e-d60b-a4793873a6d7",
        "colab": {
          "base_uri": "https://localhost:8080/",
          "height": 1000
        }
      },
      "outputs": [
        {
          "output_type": "stream",
          "name": "stdout",
          "text": [
            "Time to solve the linear system =  0.0005071163177490234\n"
          ]
        },
        {
          "output_type": "display_data",
          "data": {
            "text/plain": [
              "<Figure size 432x288 with 0 Axes>"
            ]
          },
          "metadata": {}
        },
        {
          "output_type": "display_data",
          "data": {
            "text/plain": [
              "<Figure size 432x288 with 1 Axes>"
            ],
            "image/png": "[encoded data removed]"
          },
          "metadata": {
            "needs_background": "light"
          }
        },
        {
          "output_type": "display_data",
          "data": {
            "text/plain": [
              "<Figure size 432x288 with 2 Axes>"
            ],
            "image/png": "[encoded data removed]"
          },
          "metadata": {
            "needs_background": "light"
          }
        },
        {
          "output_type": "display_data",
          "data": {
            "text/plain": [
              "<Figure size 432x288 with 2 Axes>"
            ],
            "image/png": "[encoded data removed]"
          },
          "metadata": {
            "needs_background": "light"
          }
        },
        {
          "output_type": "display_data",
          "data": {
            "text/plain": [
              "<Figure size 432x288 with 2 Axes>"
            ],
            "image/png": "[encoded data removed]"
          },
          "metadata": {
            "needs_background": "light"
          }
        },
        {
          "output_type": "stream",
          "name": "stdout",
          "text": [
            "Time to solve the linear system =  0.007464408874511719\n"
          ]
        },
        {
          "output_type": "display_data",
          "data": {
            "text/plain": [
              "<Figure size 432x288 with 0 Axes>"
            ]
          },
          "metadata": {}
        },
        {
          "output_type": "display_data",
          "data": {
            "text/plain": [
              "<Figure size 432x288 with 1 Axes>"
            ],
            "image/png": "[encoded data removed]"
          },
          "metadata": {
            "needs_background": "light"
          }
        },
        {
          "output_type": "display_data",
          "data": {
            "text/plain": [
              "<Figure size 432x288 with 2 Axes>"
            ],
            "image/png": "[encoded data removed]"
          },
          "metadata": {
            "needs_background": "light"
          }
        },
        {
          "output_type": "display_data",
          "data": {
            "text/plain": [
              "<Figure size 432x288 with 2 Axes>"
            ],
            "image/png": "[encoded data removed]"
          },
          "metadata": {
            "needs_background": "light"
          }
        },
        {
          "output_type": "display_data",
          "data": {
            "text/plain": [
              "<Figure size 432x288 with 2 Axes>"
            ],
            "image/png": "[encoded data removed]"
          },
          "metadata": {
            "needs_background": "light"
          }
        },
        {
          "output_type": "stream",
          "name": "stdout",
          "text": [
            "Time to solve the linear system =  0.0077517032623291016\n"
          ]
        },
        {
          "output_type": "display_data",
          "data": {
            "text/plain": [
              "<Figure size 432x288 with 0 Axes>"
            ]
          },
          "metadata": {}
        },
        {
          "output_type": "display_data",
          "data": {
            "text/plain": [
              "<Figure size 432x288 with 1 Axes>"
            ],
            "image/png": "[encoded data removed]"
          },
          "metadata": {
            "needs_background": "light"
          }
        },
        {
          "output_type": "display_data",
          "data": {
            "text/plain": [
              "<Figure size 432x288 with 2 Axes>"
            ],
            "image/png": "[encoded data removed]"
          },
          "metadata": {
            "needs_background": "light"
          }
        },
        {
          "output_type": "display_data",
          "data": {
            "text/plain": [
              "<Figure size 432x288 with 2 Axes>"
            ],
            "image/png": "[encoded data removed]"
          },
          "metadata": {
            "needs_background": "light"
          }
        },
        {
          "output_type": "display_data",
          "data": {
            "text/plain": [
              "<Figure size 432x288 with 2 Axes>"
            ],
            "image/png": "[encoded data removed]"
          },
          "metadata": {
            "needs_background": "light"
          }
        },
        {
          "output_type": "stream",
          "name": "stdout",
          "text": [
            "Time to solve the linear system =  0.05112051963806152\n"
          ]
        },
        {
          "output_type": "display_data",
          "data": {
            "text/plain": [
              "<Figure size 432x288 with 0 Axes>"
            ]
          },
          "metadata": {}
        },
        {
          "output_type": "display_data",
          "data": {
            "text/plain": [
              "<Figure size 432x288 with 1 Axes>"
            ],
            "image/png": "[encoded data removed]"
          },
          "metadata": {
            "needs_background": "light"
          }
        },
        {
          "output_type": "display_data",
          "data": {
            "text/plain": [
              "<Figure size 432x288 with 2 Axes>"
            ],
            "image/png": "[encoded data removed]"
          },
          "metadata": {
            "needs_background": "light"
          }
        },
        {
          "output_type": "display_data",
          "data": {
            "text/plain": [
              "<Figure size 432x288 with 2 Axes>"
            ],
            "image/png": "[encoded data removed]"
          },
          "metadata": {
            "needs_background": "light"
          }
        },
        {
          "output_type": "display_data",
          "data": {
            "text/plain": [
              "<Figure size 432x288 with 2 Axes>"
            ],
            "image/png": "[encoded data removed]"
          },
          "metadata": {
            "needs_background": "light"
          }
        },
        {
          "output_type": "stream",
          "name": "stdout",
          "text": [
            "[3.50880522 3.50523925 3.47902242 3.69154052]\n",
            "[0.12311714 0.03071676 0.00756475 0.00212929]\n",
            "[1.54300255 1.5356386  1.53488772 1.54850483]\n",
            "[0. 0. 0. 0.]\n"
          ]
        }
      ],
      "source": [
        "mse = np.zeros(4)\n",
        "# Tfv_conv = np.zeros(4)\n",
        "# Tan_conv = np.zeros(4)\n",
        "l2_norm = np.zeros(4)\n",
        "inf_norm = np.zeros(4)\n",
        "python_norm = np.zeros(4)\n",
        "\n",
        "Nx = 10 #final Nx and Ny = 160\n",
        "Ny= 10\n",
        "for i in range(0,4):\n",
        "    \n",
        "    _,mse[i],l2_norm[i], inf_norm[i] = FVheatConduction(Lx,Ly,Nx,Ny,k,Tl,Tr,Tt,Tb)\n",
        "    Nx=Nx*2\n",
        "    Ny=Ny*2\n",
        "print(l2_norm)\n",
        "print(mse)\n",
        "print(inf_norm)\n",
        "print(python_norm)"
      ]
    },
    {
      "cell_type": "markdown",
      "id": "6ecc124d",
      "metadata": {
        "id": "6ecc124d"
      },
      "source": [
        "show that mse is decreasing by a factor of 4 each iteration."
      ]
    },
    {
      "cell_type": "code",
      "execution_count": 12,
      "id": "92cd9ed3",
      "metadata": {
        "id": "92cd9ed3",
        "outputId": "1c3649b5-12f7-4673-a41c-af36feccfd2e",
        "colab": {
          "base_uri": "https://localhost:8080/"
        }
      },
      "outputs": [
        {
          "output_type": "stream",
          "name": "stdout",
          "text": [
            "[0.12311714 0.03071676 0.00756475 0.00212929]\n",
            "[1.54300255 1.5356386  1.53488772 1.54850483]\n",
            "4.008142753717584\n",
            "4.060512664684491\n",
            "3.5527051443466666\n"
          ]
        }
      ],
      "source": [
        "print(mse)\n",
        "print(inf_norm)\n",
        "for i in range(0,len(mse)-1):\n",
        "    print(mse[i]/mse[i+1])\n",
        "#     print(l2_norm[i]/l2_norm[i+1])\n",
        "#     print(inf_norm[i]/inf_norm[i+1])\n",
        "#     print(python_norm[i]/python_norm[i+1])\n"
      ]
    },
    {
      "cell_type": "markdown",
      "id": "f4fc6e31",
      "metadata": {
        "id": "f4fc6e31"
      },
      "source": [
        "Plot to see 2nd Order Convergence on a log-log graph"
      ]
    },
    {
      "cell_type": "code",
      "execution_count": 13,
      "id": "a2fd03ee",
      "metadata": {
        "id": "a2fd03ee",
        "outputId": "aa29aa90-ceb5-4282-aab7-82fb0acbb5ce",
        "colab": {
          "base_uri": "https://localhost:8080/",
          "height": 411
        }
      },
      "outputs": [
        {
          "output_type": "display_data",
          "data": {
            "text/plain": [
              "<Figure size 576x432 with 1 Axes>"
            ],
            "image/png": "[encoded data removed]"
          },
          "metadata": {
            "needs_background": "light"
          }
        }
      ],
      "source": [
        "#cells =np.array((40**2, 80**2, 160**2, 320**2))\n",
        "cells =np.array((Lx/Nx, (Lx/Nx)/2, (Lx/Nx)/4,(Lx/Nx)/8))\n",
        "fig = plt.figure(figsize=(8,6))\n",
        "plt.plot(cells,mse, color = 'k', marker = 'o')\n",
        "plt.plot(cells,cells**2, 'k--')\n",
        "plt.xscale('log')\n",
        "plt.yscale('log')\n",
        "plt.title('Average error in numerical solver as a function of cell size', fontsize = 12, weight = 600)\n",
        "plt.xlabel('Cell size', fontsize = 12, weight = 600)\n",
        "plt.ylabel('Average Error', fontsize = 12, weight = 600)\n",
        "plt.legend(['Numerical Order of Accuracy', '2nd Order Slope'],loc='center')\n",
        "plt.savefig('2nd order convergence.png')"
      ]
    },
    {
      "cell_type": "markdown",
      "id": "3758f12a",
      "metadata": {
        "id": "3758f12a"
      },
      "source": [
        "Inf_norm"
      ]
    },
    {
      "cell_type": "code",
      "execution_count": 14,
      "id": "c523213b",
      "metadata": {
        "id": "c523213b",
        "outputId": "795a36f4-964b-407c-a821-0a6b75951f80",
        "colab": {
          "base_uri": "https://localhost:8080/",
          "height": 353
        }
      },
      "outputs": [
        {
          "output_type": "stream",
          "name": "stderr",
          "text": [
            "/usr/local/lib/python3.7/dist-packages/ipykernel_launcher.py:10: UserWarning: Attempted to set non-positive left xlim on a log-scaled axis.\n",
            "Invalid limit will be ignored.\n",
            "  # Remove the CWD from sys.path while we load stuff.\n"
          ]
        },
        {
          "output_type": "display_data",
          "data": {
            "text/plain": [
              "<Figure size 432x288 with 1 Axes>"
            ],
            "image/png": "[encoded data removed]"
          },
          "metadata": {
            "needs_background": "light"
          }
        }
      ],
      "source": [
        "#cells =np.array((40**2, 80**2, 160**2, 320**2))\n",
        "cells =np.array((Lx/Nx, (Lx/Nx)/2, (Lx/Nx)/4,(Lx/Nx)/8))\n",
        "fig = plt.figure()\n",
        "plt.plot(cells,inf_norm, color = 'k', marker = 'o')\n",
        "plt.xscale('log')\n",
        "plt.yscale('log')\n",
        "plt.title('Infinity norm in numerical solver as a function of cell size', fontsize = 12, weight = 600)\n",
        "plt.xlabel('Cell size', fontsize = 12, weight = 600)\n",
        "plt.ylabel('Infinity Norm', fontsize = 12, weight = 600)\n",
        "plt.axis([0, 0.007, 1, 1.75])\n",
        "plt.savefig('inf_norm.png')"
      ]
    },
    {
      "cell_type": "markdown",
      "id": "3f70b0c8",
      "metadata": {
        "id": "3f70b0c8"
      },
      "source": [
        "# Transient Heat Conduction"
      ]
    },
    {
      "cell_type": "markdown",
      "id": "e258c72f",
      "metadata": {
        "id": "e258c72f"
      },
      "source": [
        "Plot transient heat conduction"
      ]
    },
    {
      "cell_type": "code",
      "execution_count": 15,
      "id": "84464f1f",
      "metadata": {
        "id": "84464f1f"
      },
      "outputs": [],
      "source": [
        "# Function used to save the contour plot of temperature at set intervals\n",
        "def savemyTempFieldImage(T, dx, dy, Lx, Ly, Nx, Ny, T_top, T_bottom, T_left, T_right, time,showPlot):\n",
        "    # ----Reshaping matrices FOR PLOTTING-------------------------------------------------------------------------------\n",
        "    v = np.arange(0, Lx, dx)\n",
        "    w = np.arange(0, Ly, dy)\n",
        "    T_plot = np.reshape(T, (Nx, Ny))\n",
        "\n",
        "    # -----Plotting-----------------------------------------------------------------------------------------------------\n",
        "    X, Y = np.meshgrid(v, w)\n",
        "    fig, ax = plt.subplots()\n",
        "#     CS = ax.contour(X, Y, T_plot)\n",
        "    plt.title(\"Temperature Distribution  after 1,000,000 seconds\", size=12)\n",
        "    ax.set_xlabel('Lx (m)', rotation=0, size=12)\n",
        "    ax.set_ylabel('Ly (m)', rotation=90, size=12)\n",
        "    plt.contourf(X, Y, T_plot, cmap='inferno')\n",
        "    cbar = plt.colorbar()\n",
        "    cbar.ax.get_yaxis().labelpad = 20\n",
        "    cbar.ax.set_ylabel('Temperature (C)', rotation=270, size=12)\n",
        "    imageName = 'Eoin' + str(time).zfill(6) + '.png'\n",
        "\n",
        "    print('Saving ' + imageName)\n",
        "\n",
        "    plt.savefig(imageName)\n",
        "\n",
        "    if showPlot:\n",
        "        plt.show()\n",
        "    plt.close()"
      ]
    },
    {
      "cell_type": "code",
      "execution_count": 16,
      "id": "7f521924",
      "metadata": {
        "id": "7f521924"
      },
      "outputs": [],
      "source": [
        "def FVTransientheatConduction(Lx,Ly,Nx,Ny,k,Tl,Tr,Tt,Tb,dt,total_time,rho,c):\n",
        "    #grid spacing\n",
        "    dx = Lx/Nx\n",
        "    dy = Ly/Ny\n",
        "    #Calculate coefficients\n",
        "    #east and west face coefficients equal i.e. along x direction\n",
        "    ax = k*dy/dx\n",
        "    #north and south face coefficients equal i.e. along y direction\n",
        "    ay = k*dx/dy\n",
        "    \n",
        "    alpha = -rho*c*dx*dy/dt\n",
        "    ap = -2*(ax+ay)+alpha\n",
        "    # total number of cells\n",
        "    M = Nx*Ny\n",
        "    M = int(M)\n",
        "\n",
        "    \n",
        "    # 3 coeffs on each corner + 4 coeffs on each cell attached to a side\n",
        "    #+ 5 coeffs on each internal cell\n",
        "    internalandcorner = 3*4+5*(Nx-2)*(Ny-2)\n",
        "    sides =  4*(2*Nx+2*Ny-8)\n",
        "    numNonZeros = internalandcorner+sides\n",
        "    \n",
        "    data = np.zeros((numNonZeros))\n",
        "    row_idx = np.zeros((numNonZeros ))\n",
        "    col_idx = np.zeros((numNonZeros ))\n",
        "\n",
        "    \n",
        "    #get indices of corner cells\n",
        "    botright = Nx-1\n",
        "    topleft = Nx*(Ny-1)\n",
        "    topright = Nx*Ny-1\n",
        "    Tmid = []\n",
        "    #Loop through each cell i\n",
        "    coeffi=0\n",
        "    for i in range(0, M):\n",
        "        #CORNERS\n",
        "        #bottom left...  Te and Tn unknown, Tw and Tb known (at boundary)\n",
        "        if i == 0:\n",
        "            \n",
        "            #INSERT COEFFICIENTS\n",
        "            \n",
        "            #centre\n",
        "            data[coeffi] = -3*ax-3*ay+alpha\n",
        "            #set row and col position from sparse matrix\n",
        "            row_idx[coeffi] = i\n",
        "            col_idx[coeffi] = i\n",
        "            \n",
        "            coeffi+=1#move to next coefficient\n",
        "            \n",
        "            #east\n",
        "            data[coeffi] = ax \n",
        "            #set row and col position from sparse matrix\n",
        "            row_idx[coeffi] = i \n",
        "            col_idx[coeffi] = i+1 \n",
        "            \n",
        "            coeffi+=1#move to next coefficient\n",
        "            \n",
        "            #north\n",
        "            data[coeffi] = ay \n",
        "            #set row and col position from sparse matrix\n",
        "            row_idx[coeffi] = i \n",
        "            col_idx[coeffi] = i+Nx \n",
        "            \n",
        "            coeffi+=1#move to next coefficient\n",
        "            \n",
        "            \n",
        "            \n",
        "        #bottom right\n",
        "        elif i == botright:\n",
        "            #INSERT COEFFICIENTS\n",
        "            \n",
        "            #centre\n",
        "            data[coeffi] = -3*ax-3*ay+alpha\n",
        "            #set row and col position from sparse matrix\n",
        "            row_idx[coeffi] = i\n",
        "            col_idx[coeffi] = i\n",
        "            \n",
        "            coeffi+=1#move to next coefficient\n",
        "            \n",
        "            #west\n",
        "            data[coeffi] = ax \n",
        "            #set row and col position from sparse matrix\n",
        "            row_idx[coeffi] = i \n",
        "            col_idx[coeffi] = i-1 \n",
        "            \n",
        "            coeffi+=1#move to next coefficient\n",
        "            \n",
        "            #north\n",
        "            data[coeffi] = ay \n",
        "            #set row and col position from sparse matrix\n",
        "            row_idx[coeffi] = i \n",
        "            col_idx[coeffi] = i+Nx \n",
        "            \n",
        "            coeffi+=1#move to next coefficient\n",
        "            \n",
        "            \n",
        "        #top left\n",
        "        elif i == topleft:\n",
        "            \n",
        "            #INSERT COEFFICIENTS\n",
        "            \n",
        "            #centre\n",
        "            data[coeffi] = -3*ax-3*ay+alpha\n",
        "            #set row and col position from sparse matrix\n",
        "            row_idx[coeffi] = i\n",
        "            col_idx[coeffi] = i\n",
        "            \n",
        "            coeffi+=1#move to next coefficient\n",
        "            \n",
        "            #east\n",
        "            data[coeffi] = ax \n",
        "            #set row and col position from sparse matrix\n",
        "            row_idx[coeffi] = i \n",
        "            col_idx[coeffi] = i+1 \n",
        "            \n",
        "            coeffi+=1#move to next coefficient\n",
        "            \n",
        "            #south\n",
        "            data[coeffi] = ay \n",
        "            #set row and col position from sparse matrix\n",
        "            row_idx[coeffi] = i \n",
        "            col_idx[coeffi] = i-Nx \n",
        "            \n",
        "            coeffi+=1#move to next coefficient\n",
        "            \n",
        "        \n",
        "        #top right\n",
        "        elif i == topright:\n",
        "            #INSERT COEFFICIENTS\n",
        "            \n",
        "            #centre\n",
        "            data[coeffi] = -3*ax-3*ay+alpha\n",
        "            #set row and col position from sparse matrix\n",
        "            row_idx[coeffi] = i\n",
        "            col_idx[coeffi] = i\n",
        "            \n",
        "            coeffi+=1#move to next coefficient\n",
        "            \n",
        "            #west\n",
        "            data[coeffi] = ax \n",
        "            #set row and col position from sparse matrix\n",
        "            row_idx[coeffi] = i \n",
        "            col_idx[coeffi] = i-1 \n",
        "            \n",
        "            coeffi+=1#move to next coefficient\n",
        "            \n",
        "            #south\n",
        "            data[coeffi] = ay \n",
        "            #set row and col position from sparse matrix\n",
        "            row_idx[coeffi] = i \n",
        "            col_idx[coeffi] = i-Nx \n",
        "            \n",
        "            coeffi+=1#move to next coefficient\n",
        "            \n",
        "        \n",
        "        #SIDES\n",
        "        #bottom\n",
        "        elif 0 < i < botright:\n",
        "            \n",
        "            #INSERT COEFFICIENTS\n",
        "            \n",
        "            #centre\n",
        "            data[coeffi] = -2*ax -3*ay +alpha\n",
        "            #set row and col position from sparse matrix\n",
        "            row_idx[coeffi] = i\n",
        "            col_idx[coeffi] = i\n",
        "            \n",
        "            coeffi+=1#move to next coefficient\n",
        "            \n",
        "            #west\n",
        "            data[coeffi] = ax \n",
        "            #set row and col position from sparse matrix\n",
        "            row_idx[coeffi] = i \n",
        "            col_idx[coeffi] = i-1 \n",
        "            \n",
        "            coeffi+=1#move to next coefficient\n",
        "            \n",
        "            #east\n",
        "            data[coeffi] = ax \n",
        "            #set row and col position from sparse matrix\n",
        "            row_idx[coeffi] = i \n",
        "            col_idx[coeffi] = i+1 \n",
        "            \n",
        "            coeffi+=1#move to next coefficient\n",
        "            \n",
        "            #north\n",
        "            data[coeffi] = ay \n",
        "            #set row and col position from sparse matrix\n",
        "            row_idx[coeffi] = i \n",
        "            col_idx[coeffi] = i+Nx \n",
        "            \n",
        "            coeffi+=1#move to next coefficient\n",
        "            \n",
        "        \n",
        "        #top\n",
        "        elif topleft < i < topright:\n",
        "            #INSERT COEFFICIENTS\n",
        "            \n",
        "            #centre\n",
        "            data[coeffi] = -2*ax -3*ay+alpha\n",
        "            #set row and col position from sparse matrix\n",
        "            row_idx[coeffi] = i\n",
        "            col_idx[coeffi] = i\n",
        "            \n",
        "            coeffi+=1#move to next coefficient\n",
        "            \n",
        "            #west\n",
        "            data[coeffi] = ax \n",
        "            #set row and col position from sparse matrix\n",
        "            row_idx[coeffi] = i \n",
        "            col_idx[coeffi] = i-1 \n",
        "            \n",
        "            coeffi+=1#move to next coefficient\n",
        "            \n",
        "            #east\n",
        "            data[coeffi] = ax \n",
        "            #set row and col position from sparse matrix\n",
        "            row_idx[coeffi] = i \n",
        "            col_idx[coeffi] = i+1 \n",
        "            \n",
        "            coeffi+=1#move to next coefficient\n",
        "            \n",
        "            #south\n",
        "            data[coeffi] = ay \n",
        "            #set row and col position from sparse matrix\n",
        "            row_idx[coeffi] = i \n",
        "            col_idx[coeffi] = i-Nx \n",
        "            \n",
        "            coeffi+=1#move to next coefficien\n",
        "        #left\n",
        "        elif i in range(Nx,topleft,Nx):\n",
        "            \n",
        "            #INSERT COEFFICIENTS\n",
        "            \n",
        "            #centre\n",
        "            data[coeffi] = -2*ay -3*ax +alpha\n",
        "            #set row and col position from sparse matrix\n",
        "            row_idx[coeffi] = i\n",
        "            col_idx[coeffi] = i\n",
        "            \n",
        "            coeffi+=1#move to next coefficient\n",
        "            \n",
        "            #south\n",
        "            data[coeffi] = ay \n",
        "            #set row and col position from sparse matrix\n",
        "            row_idx[coeffi] = i \n",
        "            col_idx[coeffi] = i-Nx \n",
        "            \n",
        "            coeffi+=1#move to next coefficient\n",
        "            \n",
        "            #east\n",
        "            data[coeffi] = ax \n",
        "            #set row and col position from sparse matrix\n",
        "            row_idx[coeffi] = i \n",
        "            col_idx[coeffi] = i+1 \n",
        "            \n",
        "            coeffi+=1#move to next coefficient\n",
        "            \n",
        "            #north\n",
        "            data[coeffi] = ay \n",
        "            #set row and col position from sparse matrix\n",
        "            row_idx[coeffi] = i \n",
        "            col_idx[coeffi] = i+Nx \n",
        "            \n",
        "            coeffi+=1#move to next coefficient\n",
        "            \n",
        "        #right\n",
        "        elif i in range(botright+Nx,topright,Nx):\n",
        "             #INSERT COEFFICIENTS\n",
        "            \n",
        "            #centre\n",
        "            data[coeffi] = -2*ay -3*ax +alpha\n",
        "            #set row and col position from sparse matrix\n",
        "            row_idx[coeffi] = i\n",
        "            col_idx[coeffi] = i\n",
        "            \n",
        "            coeffi+=1#move to next coefficient\n",
        "            \n",
        "            #south\n",
        "            data[coeffi] = ay \n",
        "            #set row and col position from sparse matrix\n",
        "            row_idx[coeffi] = i \n",
        "            col_idx[coeffi] = i-Nx \n",
        "            \n",
        "            coeffi+=1#move to next coefficient\n",
        "            \n",
        "            #west\n",
        "            data[coeffi] = ax \n",
        "            #set row and col position from sparse matrix\n",
        "            row_idx[coeffi] = i \n",
        "            col_idx[coeffi] = i-1 \n",
        "            \n",
        "            coeffi+=1#move to next coefficient\n",
        "            \n",
        "            #north\n",
        "            data[coeffi] = ay \n",
        "            #set row and col position from sparse matrix\n",
        "            row_idx[coeffi] = i \n",
        "            col_idx[coeffi] = i+Nx \n",
        "            \n",
        "            coeffi+=1#move to next coefficient\n",
        "        else:\n",
        "            #centre\n",
        "            data[coeffi] = ap\n",
        "            #set row and col position from sparse matrix\n",
        "            row_idx[coeffi] = i\n",
        "            col_idx[coeffi] = i\n",
        "            \n",
        "            coeffi+=1#move to next coefficient\n",
        "            \n",
        "            #south\n",
        "            data[coeffi] = ay \n",
        "            #set row and col position from sparse matrix\n",
        "            row_idx[coeffi] = i \n",
        "            col_idx[coeffi] = i-Nx \n",
        "            \n",
        "            coeffi+=1#move to next coefficient\n",
        "            \n",
        "            #west\n",
        "            data[coeffi] = ax \n",
        "            #set row and col position from sparse matrix\n",
        "            row_idx[coeffi] = i \n",
        "            col_idx[coeffi] = i-1 \n",
        "            \n",
        "            coeffi+=1#move to next coefficient\n",
        "            \n",
        "            #north\n",
        "            data[coeffi] = ay \n",
        "            #set row and col position from sparse matrix\n",
        "            row_idx[coeffi] = i \n",
        "            col_idx[coeffi] = i+Nx \n",
        "            \n",
        "            coeffi+=1#move to next coefficient\n",
        "            \n",
        "            #east\n",
        "            data[coeffi] = ax \n",
        "            #set row and col position from sparse matrix\n",
        "            row_idx[coeffi] = i \n",
        "            col_idx[coeffi] = i+1 \n",
        "            \n",
        "            coeffi+=1#move to next coefficient\n",
        "            \n",
        "    #create sparse coefficient matrix\n",
        "    A = csr_matrix((data, (row_idx, col_idx)), shape=(M, M))\n",
        "    \n",
        "    #Initialise temperature vector\n",
        "    T = np.zeros((M))\n",
        "    T=np.empty(M)\n",
        "    T.fill(Tinitial)\n",
        "\n",
        "    b = np.zeros(M)\n",
        "    #TIME LOOP\n",
        "    for t in range(0, int(total_time/dt)):  # time loop\n",
        "        for i in range(0,M):\n",
        "            #CORNERS\n",
        "            #bottom left...  Te and Tn unknown, Tw and Tb known (at boundary)\n",
        "            if i == 0:\n",
        "                #Source Vector\n",
        "                b[i] = -2*ay*Tb-2*ax*Tl+alpha*T[i]\n",
        "\n",
        "\n",
        "            #bottom right\n",
        "            elif i == botright:\n",
        "                #bottom right\n",
        "                #Source Vector\n",
        "                b[i] = -2*ay*Tb-2*ax*Tr+alpha*T[i]\n",
        "\n",
        "\n",
        "            #top left\n",
        "            elif i == topleft:\n",
        "                #top left\n",
        "                #Source Vector\n",
        "                b[i] = -2*ay*Tt-2*ax*Tl+alpha*T[i]\n",
        "\n",
        "            #top right\n",
        "            elif i == topright:\n",
        "                #top right\n",
        "                #Source Vector\n",
        "                b[i] = -2*ay*Tt-2*ax*Tr+alpha*T[i]\n",
        "\n",
        "            #SIDES\n",
        "            #bottom\n",
        "            elif 0 < i < botright:\n",
        "                #bottom\n",
        "                #Source Vector\n",
        "                b[i] = -2*ay*Tb+alpha*T[i]\n",
        "            #top\n",
        "            elif topleft < i < topright:\n",
        "                #top\n",
        "                #Source Vector\n",
        "                b[i] = -2*ay*Tt+alpha*T[i]\n",
        "            #left\n",
        "            elif i in range(Nx,topleft,Nx):\n",
        "                #left\n",
        "                #Source Vector\n",
        "                b[i] = -2*ax*Tl+alpha*T[i]\n",
        "\n",
        "            #right\n",
        "            elif i in range(botright+Nx,topright,Nx):\n",
        "                #top\n",
        "                #Source Vector\n",
        "                b[i] = -2*ax*Tr+alpha*T[i]\n",
        "            else:\n",
        "                #internal\n",
        "                #Source Vector\n",
        "                b[i] = alpha*T[i]\n",
        "                \n",
        "        #Tmid is at centre of the plate used to calculate temporal accuracy and validate solver\n",
        "        Tmid.append(T[int(topleft/2)+Nx])\n",
        "        T = scipy.sparse.linalg.spsolve(A, b)\n",
        "        if t == int(total_time/dt)-1:\n",
        "             Tmid.append(T[int(topleft/2)+Nx])\n",
        "#         print(t)\n",
        "        \n",
        "        if t % saveImageFreq == 0:\n",
        "            savemyTempFieldImage(T, dx, dy, Lx, Ly, Nx, Ny, Tt, Tb, Tl, Tr,t, showPlot=True)\n",
        "    \n",
        "    return T, Tmid"
      ]
    },
    {
      "cell_type": "markdown",
      "id": "635dfc07",
      "metadata": {
        "id": "635dfc07"
      },
      "source": [
        "## Test Transient Heat Conduction"
      ]
    },
    {
      "cell_type": "code",
      "execution_count": 17,
      "id": "571ca4af",
      "metadata": {
        "id": "571ca4af"
      },
      "outputs": [],
      "source": [
        "#Define inputs\n",
        "\n",
        "Lx = 1\n",
        "Ly = 1\n",
        "Nx = 200#when Nx and Ny = 164 the best convergence is achieved\n",
        "Ny = 200\n",
        "k = 45\n",
        "Tl = 0\n",
        "Tt = 70\n",
        "Tr = 0\n",
        "Tb = 0\n",
        "Tinitial = 0\n",
        "dt = 1e5\n",
        "\n",
        "total_time = 10000\n",
        "saveImageFreq = 100\n",
        "\n",
        "rho = 8040\n",
        "c = 490\n",
        "\n",
        "T,Tmid250 = FVTransientheatConduction(Lx,Ly,Nx,Ny,k,Tl,Tr,Tt,Tb,dt,total_time,rho,c)\n",
        "\n"
      ]
    },
    {
      "cell_type": "markdown",
      "id": "2a9d8da2",
      "metadata": {
        "id": "2a9d8da2"
      },
      "source": [
        "## Temporal Accuracy"
      ]
    },
    {
      "cell_type": "markdown",
      "id": "82ed4060",
      "metadata": {
        "id": "82ed4060"
      },
      "source": [
        "Run simulation for various time steps and store value at centre of plate"
      ]
    },
    {
      "cell_type": "code",
      "execution_count": 18,
      "id": "aa628442",
      "metadata": {
        "id": "aa628442",
        "outputId": "5ba5e68d-6281-4807-d196-19db7bce1dd8",
        "colab": {
          "base_uri": "https://localhost:8080/",
          "height": 1000
        }
      },
      "outputs": [
        {
          "output_type": "stream",
          "name": "stdout",
          "text": [
            "Saving Eoin000000.png\n"
          ]
        },
        {
          "output_type": "display_data",
          "data": {
            "text/plain": [
              "<Figure size 432x288 with 2 Axes>"
            ],
            "image/png": "[encoded data removed]"
          },
          "metadata": {
            "needs_background": "light"
          }
        },
        {
          "output_type": "stream",
          "name": "stdout",
          "text": [
            "Saving Eoin000000.png\n"
          ]
        },
        {
          "output_type": "display_data",
          "data": {
            "text/plain": [
              "<Figure size 432x288 with 2 Axes>"
            ],
            "image/png": "[encoded data removed]"
          },
          "metadata": {
            "needs_background": "light"
          }
        },
        {
          "output_type": "stream",
          "name": "stdout",
          "text": [
            "Saving Eoin000000.png\n"
          ]
        },
        {
          "output_type": "display_data",
          "data": {
            "text/plain": [
              "<Figure size 432x288 with 2 Axes>"
            ],
            "image/png": "[encoded data removed]"
          },
          "metadata": {
            "needs_background": "light"
          }
        },
        {
          "output_type": "stream",
          "name": "stdout",
          "text": [
            "Saving Eoin000000.png\n"
          ]
        },
        {
          "output_type": "display_data",
          "data": {
            "text/plain": [
              "<Figure size 432x288 with 2 Axes>"
            ],
            "image/png": "[encoded data removed]"
          },
          "metadata": {
            "needs_background": "light"
          }
        }
      ],
      "source": [
        "time_steps = [250,500,1000,2000]\n",
        "Tmid = []\n",
        "times = []\n",
        "for dt in time_steps:\n",
        "    _,Tmiddle = FVTransientheatConduction(Lx,Ly,Nx,Ny,k,Tl,Tr,Tt,Tb,dt,total_time,rho,c)\n",
        "    Tmid.append(Tmiddle)\n",
        "    time = np.arange(0,total_time+dt,dt)\n",
        "    times.append(time)"
      ]
    },
    {
      "cell_type": "markdown",
      "id": "ae8d2cfc",
      "metadata": {
        "id": "ae8d2cfc"
      },
      "source": [
        "## Compare with Abaqus Results"
      ]
    },
    {
      "cell_type": "markdown",
      "id": "1da22819",
      "metadata": {
        "id": "1da22819"
      },
      "source": [
        "Create dataframes of each run with time as index and Tmid as value"
      ]
    },
    {
      "cell_type": "code",
      "execution_count": 19,
      "id": "3b1aaa9b",
      "metadata": {
        "id": "3b1aaa9b"
      },
      "outputs": [],
      "source": [
        "dfs = {}\n",
        "for time,Tmiddle in zip(times,Tmid):\n",
        "    \n",
        "    dfs[time[1]] = pd.DataFrame(Tmiddle,index = time)"
      ]
    },
    {
      "cell_type": "markdown",
      "id": "c362bf22",
      "metadata": {
        "id": "c362bf22"
      },
      "source": [
        "Combine all dataframes into one dataframe"
      ]
    },
    {
      "cell_type": "code",
      "execution_count": 20,
      "id": "8a9153e0",
      "metadata": {
        "id": "8a9153e0",
        "outputId": "ce3709fe-1661-45a1-dd1e-84bb52e9b3db",
        "colab": {
          "base_uri": "https://localhost:8080/"
        }
      },
      "outputs": [
        {
          "output_type": "stream",
          "name": "stderr",
          "text": [
            "/usr/local/lib/python3.7/dist-packages/ipykernel_launcher.py:2: FutureWarning: Passing 'suffixes' which cause duplicate columns {'0_x'} in the result is deprecated and will raise a MergeError in a future version.\n",
            "  \n"
          ]
        }
      ],
      "source": [
        "df_merged = reduce(lambda  left,right: pd.merge(left,right,left_index=True, right_index=True,\n",
        "                                            how='outer'), dfs.values()).fillna(np.nan)\n"
      ]
    },
    {
      "cell_type": "code",
      "execution_count": 21,
      "id": "9c6ca116",
      "metadata": {
        "id": "9c6ca116",
        "outputId": "da45de1f-2b05-4462-d997-c486770fc4e0",
        "colab": {
          "base_uri": "https://localhost:8080/",
          "height": 1000
        }
      },
      "outputs": [
        {
          "output_type": "execute_result",
          "data": {
            "text/plain": [
              "        dt = 250   dt = 500  dt = 1000  dt = 2000\n",
              "0       0.000000   0.000000   0.000000   0.000000\n",
              "250     0.006302        NaN        NaN        NaN\n",
              "500     0.035502   0.094193        NaN        NaN\n",
              "750     0.110356        NaN        NaN        NaN\n",
              "1000    0.251718   0.399864   0.618727        NaN\n",
              "1250    0.472542        NaN        NaN        NaN\n",
              "1500    0.776099   0.968822        NaN        NaN\n",
              "1750    1.157412        NaN        NaN        NaN\n",
              "2000    1.606041   1.776579   2.004340   2.236528\n",
              "2250    2.108855        NaN        NaN        NaN\n",
              "2500    2.652163   2.756320        NaN        NaN\n",
              "2750    3.223070        NaN        NaN        NaN\n",
              "3000    3.810209   3.833165   3.867414        NaN\n",
              "3250    4.404018        NaN        NaN        NaN\n",
              "3500    4.996742   4.943211        NaN        NaN\n",
              "3750    5.582282        NaN        NaN        NaN\n",
              "4000    6.155986   6.039583   5.861919   5.606115\n",
              "4250    6.714411        NaN        NaN        NaN\n",
              "4500    7.255109   7.091523        NaN        NaN\n",
              "4750    7.776427        NaN        NaN        NaN\n",
              "5000    8.277343   8.080986   7.757347        NaN\n",
              "5250    8.757323        NaN        NaN        NaN\n",
              "5500    9.216207   8.998994        NaN        NaN\n",
              "5750    9.654122        NaN        NaN        NaN\n",
              "6000   10.071402   9.842613   9.443890   8.822743\n",
              "6250   10.468537        NaN        NaN        NaN\n",
              "6500   10.846126  10.612713        NaN        NaN\n",
              "6750   11.204838        NaN        NaN        NaN\n",
              "7000   11.545392  11.312419  10.889768        NaN\n",
              "7250   11.868533        NaN        NaN        NaN\n",
              "7500   12.175014  11.946080        NaN        NaN\n",
              "7750   12.465590        NaN        NaN        NaN\n",
              "8000   12.741004  12.518603  12.103290  11.387996\n",
              "8250   13.001984        NaN        NaN        NaN\n",
              "8500   13.249239  13.035045        NaN        NaN\n",
              "8750   13.483452        NaN        NaN        NaN\n",
              "9000   13.705281  13.500367  13.109496        NaN\n",
              "9250   13.915360        NaN        NaN        NaN\n",
              "9500   14.114294  13.919291        NaN        NaN\n",
              "9750   14.302660        NaN        NaN        NaN\n",
              "10000  14.481009  14.296231  13.938020  13.276580"
            ],
            "text/html": [
              "\n",
              "  <div id=\"df-44811c22-5db3-4a4d-a340-cce791509a7d\">\n",
              "    <div class=\"colab-df-container\">\n",
              "      <div>\n",
              "<style scoped>\n",
              "    .dataframe tbody tr th:only-of-type {\n",
              "        vertical-align: middle;\n",
              "    }\n",
              "\n",
              "    .dataframe tbody tr th {\n",
              "        vertical-align: top;\n",
              "    }\n",
              "\n",
              "    .dataframe thead th {\n",
              "        text-align: right;\n",
              "    }\n",
              "</style>\n",
              "<table border=\"1\" class=\"dataframe\">\n",
              "  <thead>\n",
              "    <tr style=\"text-align: right;\">\n",
              "      <th></th>\n",
              "      <th>dt = 250</th>\n",
              "      <th>dt = 500</th>\n",
              "      <th>dt = 1000</th>\n",
              "      <th>dt = 2000</th>\n",
              "    </tr>\n",
              "  </thead>\n",
              "  <tbody>\n",
              "    <tr>\n",
              "      <th>0</th>\n",
              "      <td>0.000000</td>\n",
              "      <td>0.000000</td>\n",
              "      <td>0.000000</td>\n",
              "      <td>0.000000</td>\n",
              "    </tr>\n",
              "    <tr>\n",
              "      <th>250</th>\n",
              "      <td>0.006302</td>\n",
              "      <td>NaN</td>\n",
              "      <td>NaN</td>\n",
              "      <td>NaN</td>\n",
              "    </tr>\n",
              "    <tr>\n",
              "      <th>500</th>\n",
              "      <td>0.035502</td>\n",
              "      <td>0.094193</td>\n",
              "      <td>NaN</td>\n",
              "      <td>NaN</td>\n",
              "    </tr>\n",
              "    <tr>\n",
              "      <th>750</th>\n",
              "      <td>0.110356</td>\n",
              "      <td>NaN</td>\n",
              "      <td>NaN</td>\n",
              "      <td>NaN</td>\n",
              "    </tr>\n",
              "    <tr>\n",
              "      <th>1000</th>\n",
              "      <td>0.251718</td>\n",
              "      <td>0.399864</td>\n",
              "      <td>0.618727</td>\n",
              "      <td>NaN</td>\n",
              "    </tr>\n",
              "    <tr>\n",
              "      <th>1250</th>\n",
              "      <td>0.472542</td>\n",
              "      <td>NaN</td>\n",
              "      <td>NaN</td>\n",
              "      <td>NaN</td>\n",
              "    </tr>\n",
              "    <tr>\n",
              "      <th>1500</th>\n",
              "      <td>0.776099</td>\n",
              "      <td>0.968822</td>\n",
              "      <td>NaN</td>\n",
              "      <td>NaN</td>\n",
              "    </tr>\n",
              "    <tr>\n",
              "      <th>1750</th>\n",
              "      <td>1.157412</td>\n",
              "      <td>NaN</td>\n",
              "      <td>NaN</td>\n",
              "      <td>NaN</td>\n",
              "    </tr>\n",
              "    <tr>\n",
              "      <th>2000</th>\n",
              "      <td>1.606041</td>\n",
              "      <td>1.776579</td>\n",
              "      <td>2.004340</td>\n",
              "      <td>2.236528</td>\n",
              "    </tr>\n",
              "    <tr>\n",
              "      <th>2250</th>\n",
              "      <td>2.108855</td>\n",
              "      <td>NaN</td>\n",
              "      <td>NaN</td>\n",
              "      <td>NaN</td>\n",
              "    </tr>\n",
              "    <tr>\n",
              "      <th>2500</th>\n",
              "      <td>2.652163</td>\n",
              "      <td>2.756320</td>\n",
              "      <td>NaN</td>\n",
              "      <td>NaN</td>\n",
              "    </tr>\n",
              "    <tr>\n",
              "      <th>2750</th>\n",
              "      <td>3.223070</td>\n",
              "      <td>NaN</td>\n",
              "      <td>NaN</td>\n",
              "      <td>NaN</td>\n",
              "    </tr>\n",
              "    <tr>\n",
              "      <th>3000</th>\n",
              "      <td>3.810209</td>\n",
              "      <td>3.833165</td>\n",
              "      <td>3.867414</td>\n",
              "      <td>NaN</td>\n",
              "    </tr>\n",
              "    <tr>\n",
              "      <th>3250</th>\n",
              "      <td>4.404018</td>\n",
              "      <td>NaN</td>\n",
              "      <td>NaN</td>\n",
              "      <td>NaN</td>\n",
              "    </tr>\n",
              "    <tr>\n",
              "      <th>3500</th>\n",
              "      <td>4.996742</td>\n",
              "      <td>4.943211</td>\n",
              "      <td>NaN</td>\n",
              "      <td>NaN</td>\n",
              "    </tr>\n",
              "    <tr>\n",
              "      <th>3750</th>\n",
              "      <td>5.582282</td>\n",
              "      <td>NaN</td>\n",
              "      <td>NaN</td>\n",
              "      <td>NaN</td>\n",
              "    </tr>\n",
              "    <tr>\n",
              "      <th>4000</th>\n",
              "      <td>6.155986</td>\n",
              "      <td>6.039583</td>\n",
              "      <td>5.861919</td>\n",
              "      <td>5.606115</td>\n",
              "    </tr>\n",
              "    <tr>\n",
              "      <th>4250</th>\n",
              "      <td>6.714411</td>\n",
              "      <td>NaN</td>\n",
              "      <td>NaN</td>\n",
              "      <td>NaN</td>\n",
              "    </tr>\n",
              "    <tr>\n",
              "      <th>4500</th>\n",
              "      <td>7.255109</td>\n",
              "      <td>7.091523</td>\n",
              "      <td>NaN</td>\n",
              "      <td>NaN</td>\n",
              "    </tr>\n",
              "    <tr>\n",
              "      <th>4750</th>\n",
              "      <td>7.776427</td>\n",
              "      <td>NaN</td>\n",
              "      <td>NaN</td>\n",
              "      <td>NaN</td>\n",
              "    </tr>\n",
              "    <tr>\n",
              "      <th>5000</th>\n",
              "      <td>8.277343</td>\n",
              "      <td>8.080986</td>\n",
              "      <td>7.757347</td>\n",
              "      <td>NaN</td>\n",
              "    </tr>\n",
              "    <tr>\n",
              "      <th>5250</th>\n",
              "      <td>8.757323</td>\n",
              "      <td>NaN</td>\n",
              "      <td>NaN</td>\n",
              "      <td>NaN</td>\n",
              "    </tr>\n",
              "    <tr>\n",
              "      <th>5500</th>\n",
              "      <td>9.216207</td>\n",
              "      <td>8.998994</td>\n",
              "      <td>NaN</td>\n",
              "      <td>NaN</td>\n",
              "    </tr>\n",
              "    <tr>\n",
              "      <th>5750</th>\n",
              "      <td>9.654122</td>\n",
              "      <td>NaN</td>\n",
              "      <td>NaN</td>\n",
              "      <td>NaN</td>\n",
              "    </tr>\n",
              "    <tr>\n",
              "      <th>6000</th>\n",
              "      <td>10.071402</td>\n",
              "      <td>9.842613</td>\n",
              "      <td>9.443890</td>\n",
              "      <td>8.822743</td>\n",
              "    </tr>\n",
              "    <tr>\n",
              "      <th>6250</th>\n",
              "      <td>10.468537</td>\n",
              "      <td>NaN</td>\n",
              "      <td>NaN</td>\n",
              "      <td>NaN</td>\n",
              "    </tr>\n",
              "    <tr>\n",
              "      <th>6500</th>\n",
              "      <td>10.846126</td>\n",
              "      <td>10.612713</td>\n",
              "      <td>NaN</td>\n",
              "      <td>NaN</td>\n",
              "    </tr>\n",
              "    <tr>\n",
              "      <th>6750</th>\n",
              "      <td>11.204838</td>\n",
              "      <td>NaN</td>\n",
              "      <td>NaN</td>\n",
              "      <td>NaN</td>\n",
              "    </tr>\n",
              "    <tr>\n",
              "      <th>7000</th>\n",
              "      <td>11.545392</td>\n",
              "      <td>11.312419</td>\n",
              "      <td>10.889768</td>\n",
              "      <td>NaN</td>\n",
              "    </tr>\n",
              "    <tr>\n",
              "      <th>7250</th>\n",
              "      <td>11.868533</td>\n",
              "      <td>NaN</td>\n",
              "      <td>NaN</td>\n",
              "      <td>NaN</td>\n",
              "    </tr>\n",
              "    <tr>\n",
              "      <th>7500</th>\n",
              "      <td>12.175014</td>\n",
              "      <td>11.946080</td>\n",
              "      <td>NaN</td>\n",
              "      <td>NaN</td>\n",
              "    </tr>\n",
              "    <tr>\n",
              "      <th>7750</th>\n",
              "      <td>12.465590</td>\n",
              "      <td>NaN</td>\n",
              "      <td>NaN</td>\n",
              "      <td>NaN</td>\n",
              "    </tr>\n",
              "    <tr>\n",
              "      <th>8000</th>\n",
              "      <td>12.741004</td>\n",
              "      <td>12.518603</td>\n",
              "      <td>12.103290</td>\n",
              "      <td>11.387996</td>\n",
              "    </tr>\n",
              "    <tr>\n",
              "      <th>8250</th>\n",
              "      <td>13.001984</td>\n",
              "      <td>NaN</td>\n",
              "      <td>NaN</td>\n",
              "      <td>NaN</td>\n",
              "    </tr>\n",
              "    <tr>\n",
              "      <th>8500</th>\n",
              "      <td>13.249239</td>\n",
              "      <td>13.035045</td>\n",
              "      <td>NaN</td>\n",
              "      <td>NaN</td>\n",
              "    </tr>\n",
              "    <tr>\n",
              "      <th>8750</th>\n",
              "      <td>13.483452</td>\n",
              "      <td>NaN</td>\n",
              "      <td>NaN</td>\n",
              "      <td>NaN</td>\n",
              "    </tr>\n",
              "    <tr>\n",
              "      <th>9000</th>\n",
              "      <td>13.705281</td>\n",
              "      <td>13.500367</td>\n",
              "      <td>13.109496</td>\n",
              "      <td>NaN</td>\n",
              "    </tr>\n",
              "    <tr>\n",
              "      <th>9250</th>\n",
              "      <td>13.915360</td>\n",
              "      <td>NaN</td>\n",
              "      <td>NaN</td>\n",
              "      <td>NaN</td>\n",
              "    </tr>\n",
              "    <tr>\n",
              "      <th>9500</th>\n",
              "      <td>14.114294</td>\n",
              "      <td>13.919291</td>\n",
              "      <td>NaN</td>\n",
              "      <td>NaN</td>\n",
              "    </tr>\n",
              "    <tr>\n",
              "      <th>9750</th>\n",
              "      <td>14.302660</td>\n",
              "      <td>NaN</td>\n",
              "      <td>NaN</td>\n",
              "      <td>NaN</td>\n",
              "    </tr>\n",
              "    <tr>\n",
              "      <th>10000</th>\n",
              "      <td>14.481009</td>\n",
              "      <td>14.296231</td>\n",
              "      <td>13.938020</td>\n",
              "      <td>13.276580</td>\n",
              "    </tr>\n",
              "  </tbody>\n",
              "</table>\n",
              "</div>\n",
              "      <button class=\"colab-df-convert\" onclick=\"convertToInteractive('df-44811c22-5db3-4a4d-a340-cce791509a7d')\"\n",
              "              title=\"Convert this dataframe to an interactive table.\"\n",
              "              style=\"display:none;\">\n",
              "        \n",
              "  <svg xmlns=\"http://www.w3.org/2000/svg\" height=\"24px\"viewBox=\"0 0 24 24\"\n",
              "       width=\"24px\">\n",
              "    <path d=\"M0 0h24v24H0V0z\" fill=\"none\"/>\n",
              "    <path d=\"M18.56 5.44l.94 2.06.94-2.06 2.06-.94-2.06-.94-.94-2.06-.94 2.06-2.06.94zm-11 1L8.5 8.5l.94-2.06 2.06-.94-2.06-.94L8.5 2.5l-.94 2.06-2.06.94zm10 10l.94 2.06.94-2.06 2.06-.94-2.06-.94-.94-2.06-.94 2.06-2.06.94z\"/><path d=\"M17.41 7.96l-1.37-1.37c-.4-.4-.92-.59-1.43-.59-.52 0-1.04.2-1.43.59L10.3 9.45l-7.72 7.72c-.78.78-.78 2.05 0 2.83L4 21.41c.39.39.9.59 1.41.59.51 0 1.02-.2 1.41-.59l7.78-7.78 2.81-2.81c.8-.78.8-2.07 0-2.86zM5.41 20L4 18.59l7.72-7.72 1.47 1.35L5.41 20z\"/>\n",
              "  </svg>\n",
              "      </button>\n",
              "      \n",
              "  <style>\n",
              "    .colab-df-container {\n",
              "      display:flex;\n",
              "      flex-wrap:wrap;\n",
              "      gap: 12px;\n",
              "    }\n",
              "\n",
              "    .colab-df-convert {\n",
              "      background-color: #E8F0FE;\n",
              "      border: none;\n",
              "      border-radius: 50%;\n",
              "      cursor: pointer;\n",
              "      display: none;\n",
              "      fill: #1967D2;\n",
              "      height: 32px;\n",
              "      padding: 0 0 0 0;\n",
              "      width: 32px;\n",
              "    }\n",
              "\n",
              "    .colab-df-convert:hover {\n",
              "      background-color: #E2EBFA;\n",
              "      box-shadow: 0px 1px 2px rgba(60, 64, 67, 0.3), 0px 1px 3px 1px rgba(60, 64, 67, 0.15);\n",
              "      fill: #174EA6;\n",
              "    }\n",
              "\n",
              "    [theme=dark] .colab-df-convert {\n",
              "      background-color: #3B4455;\n",
              "      fill: #D2E3FC;\n",
              "    }\n",
              "\n",
              "    [theme=dark] .colab-df-convert:hover {\n",
              "      background-color: #434B5C;\n",
              "      box-shadow: 0px 1px 3px 1px rgba(0, 0, 0, 0.15);\n",
              "      filter: drop-shadow(0px 1px 2px rgba(0, 0, 0, 0.3));\n",
              "      fill: #FFFFFF;\n",
              "    }\n",
              "  </style>\n",
              "\n",
              "      <script>\n",
              "        const buttonEl =\n",
              "          document.querySelector('#df-44811c22-5db3-4a4d-a340-cce791509a7d button.colab-df-convert');\n",
              "        buttonEl.style.display =\n",
              "          google.colab.kernel.accessAllowed ? 'block' : 'none';\n",
              "\n",
              "        async function convertToInteractive(key) {\n",
              "          const element = document.querySelector('#df-44811c22-5db3-4a4d-a340-cce791509a7d');\n",
              "          const dataTable =\n",
              "            await google.colab.kernel.invokeFunction('convertToInteractive',\n",
              "                                                     [key], {});\n",
              "          if (!dataTable) return;\n",
              "\n",
              "          const docLinkHtml = 'Like what you see? Visit the ' +\n",
              "            '<a target=\"_blank\" href=https://colab.research.google.com/notebooks/data_table.ipynb>data table notebook</a>'\n",
              "            + ' to learn more about interactive tables.';\n",
              "          element.innerHTML = '';\n",
              "          dataTable['output_type'] = 'display_data';\n",
              "          await google.colab.output.renderOutput(dataTable, element);\n",
              "          const docLink = document.createElement('div');\n",
              "          docLink.innerHTML = docLinkHtml;\n",
              "          element.appendChild(docLink);\n",
              "        }\n",
              "      </script>\n",
              "    </div>\n",
              "  </div>\n",
              "  "
            ]
          },
          "metadata": {},
          "execution_count": 21
        }
      ],
      "source": [
        "df_merged.columns = ['dt = 250', 'dt = 500', 'dt = 1000', 'dt = 2000']\n",
        "# df_merged.rename(columns={'0_x': '1000', '0_y': '2000'}, inplace=True)\n",
        "df_merged"
      ]
    },
    {
      "cell_type": "markdown",
      "id": "6a4a5a05",
      "metadata": {
        "id": "6a4a5a05"
      },
      "source": [
        "### INSERT PATH TO ABAQUS DATA FILE"
      ]
    },
    {
      "cell_type": "code",
      "execution_count": 24,
      "id": "bedc421a",
      "metadata": {
        "id": "bedc421a"
      },
      "outputs": [],
      "source": [
        "file_path = '2d_heat_conduction_in_a_square_plate_abaqus_data.csv'"
      ]
    },
    {
      "cell_type": "code",
      "execution_count": 25,
      "id": "290b0944",
      "metadata": {
        "id": "290b0944",
        "outputId": "3742b09f-3b59-483a-ab92-085b350d84fa",
        "colab": {
          "base_uri": "https://localhost:8080/",
          "height": 307
        }
      },
      "outputs": [
        {
          "output_type": "error",
          "ename": "FileNotFoundError",
          "evalue": "ignored",
          "traceback": [
            "\u001b[0;31m---------------------------------------------------------------------------\u001b[0m",
            "\u001b[0;31mFileNotFoundError\u001b[0m                         Traceback (most recent call last)",
            "\u001b[0;32m<ipython-input-25-0cf7204fa2a3>\u001b[0m in \u001b[0;36m<module>\u001b[0;34m\u001b[0m\n\u001b[0;32m----> 1\u001b[0;31m \u001b[0mdf_abaqus\u001b[0m \u001b[0;34m=\u001b[0m \u001b[0mpd\u001b[0m\u001b[0;34m.\u001b[0m\u001b[0mread_csv\u001b[0m\u001b[0;34m(\u001b[0m\u001b[0mfile_path\u001b[0m\u001b[0;34m)\u001b[0m\u001b[0;34m\u001b[0m\u001b[0;34m\u001b[0m\u001b[0m\n\u001b[0m",
            "\u001b[0;32m/usr/local/lib/python3.7/dist-packages/pandas/util/_decorators.py\u001b[0m in \u001b[0;36mwrapper\u001b[0;34m(*args, **kwargs)\u001b[0m\n\u001b[1;32m    309\u001b[0m                     \u001b[0mstacklevel\u001b[0m\u001b[0;34m=\u001b[0m\u001b[0mstacklevel\u001b[0m\u001b[0;34m,\u001b[0m\u001b[0;34m\u001b[0m\u001b[0;34m\u001b[0m\u001b[0m\n\u001b[1;32m    310\u001b[0m                 )\n\u001b[0;32m--> 311\u001b[0;31m             \u001b[0;32mreturn\u001b[0m \u001b[0mfunc\u001b[0m\u001b[0;34m(\u001b[0m\u001b[0;34m*\u001b[0m\u001b[0margs\u001b[0m\u001b[0;34m,\u001b[0m \u001b[0;34m**\u001b[0m\u001b[0mkwargs\u001b[0m\u001b[0;34m)\u001b[0m\u001b[0;34m\u001b[0m\u001b[0;34m\u001b[0m\u001b[0m\n\u001b[0m\u001b[1;32m    312\u001b[0m \u001b[0;34m\u001b[0m\u001b[0m\n\u001b[1;32m    313\u001b[0m         \u001b[0;32mreturn\u001b[0m \u001b[0mwrapper\u001b[0m\u001b[0;34m\u001b[0m\u001b[0;34m\u001b[0m\u001b[0m\n",
            "\u001b[0;32m/usr/local/lib/python3.7/dist-packages/pandas/io/parsers/readers.py\u001b[0m in \u001b[0;36mread_csv\u001b[0;34m(filepath_or_buffer, sep, delimiter, header, names, index_col, usecols, squeeze, prefix, mangle_dupe_cols, dtype, engine, converters, true_values, false_values, skipinitialspace, skiprows, skipfooter, nrows, na_values, keep_default_na, na_filter, verbose, skip_blank_lines, parse_dates, infer_datetime_format, keep_date_col, date_parser, dayfirst, cache_dates, iterator, chunksize, compression, thousands, decimal, lineterminator, quotechar, quoting, doublequote, escapechar, comment, encoding, encoding_errors, dialect, error_bad_lines, warn_bad_lines, on_bad_lines, delim_whitespace, low_memory, memory_map, float_precision, storage_options)\u001b[0m\n\u001b[1;32m    584\u001b[0m     \u001b[0mkwds\u001b[0m\u001b[0;34m.\u001b[0m\u001b[0mupdate\u001b[0m\u001b[0;34m(\u001b[0m\u001b[0mkwds_defaults\u001b[0m\u001b[0;34m)\u001b[0m\u001b[0;34m\u001b[0m\u001b[0;34m\u001b[0m\u001b[0m\n\u001b[1;32m    585\u001b[0m \u001b[0;34m\u001b[0m\u001b[0m\n\u001b[0;32m--> 586\u001b[0;31m     \u001b[0;32mreturn\u001b[0m \u001b[0m_read\u001b[0m\u001b[0;34m(\u001b[0m\u001b[0mfilepath_or_buffer\u001b[0m\u001b[0;34m,\u001b[0m \u001b[0mkwds\u001b[0m\u001b[0;34m)\u001b[0m\u001b[0;34m\u001b[0m\u001b[0;34m\u001b[0m\u001b[0m\n\u001b[0m\u001b[1;32m    587\u001b[0m \u001b[0;34m\u001b[0m\u001b[0m\n\u001b[1;32m    588\u001b[0m \u001b[0;34m\u001b[0m\u001b[0m\n",
            "\u001b[0;32m/usr/local/lib/python3.7/dist-packages/pandas/io/parsers/readers.py\u001b[0m in \u001b[0;36m_read\u001b[0;34m(filepath_or_buffer, kwds)\u001b[0m\n\u001b[1;32m    480\u001b[0m \u001b[0;34m\u001b[0m\u001b[0m\n\u001b[1;32m    481\u001b[0m     \u001b[0;31m# Create the parser.\u001b[0m\u001b[0;34m\u001b[0m\u001b[0;34m\u001b[0m\u001b[0;34m\u001b[0m\u001b[0m\n\u001b[0;32m--> 482\u001b[0;31m     \u001b[0mparser\u001b[0m \u001b[0;34m=\u001b[0m \u001b[0mTextFileReader\u001b[0m\u001b[0;34m(\u001b[0m\u001b[0mfilepath_or_buffer\u001b[0m\u001b[0;34m,\u001b[0m \u001b[0;34m**\u001b[0m\u001b[0mkwds\u001b[0m\u001b[0;34m)\u001b[0m\u001b[0;34m\u001b[0m\u001b[0;34m\u001b[0m\u001b[0m\n\u001b[0m\u001b[1;32m    483\u001b[0m \u001b[0;34m\u001b[0m\u001b[0m\n\u001b[1;32m    484\u001b[0m     \u001b[0;32mif\u001b[0m \u001b[0mchunksize\u001b[0m \u001b[0;32mor\u001b[0m \u001b[0miterator\u001b[0m\u001b[0;34m:\u001b[0m\u001b[0;34m\u001b[0m\u001b[0;34m\u001b[0m\u001b[0m\n",
            "\u001b[0;32m/usr/local/lib/python3.7/dist-packages/pandas/io/parsers/readers.py\u001b[0m in \u001b[0;36m__init__\u001b[0;34m(self, f, engine, **kwds)\u001b[0m\n\u001b[1;32m    809\u001b[0m             \u001b[0mself\u001b[0m\u001b[0;34m.\u001b[0m\u001b[0moptions\u001b[0m\u001b[0;34m[\u001b[0m\u001b[0;34m\"has_index_names\"\u001b[0m\u001b[0;34m]\u001b[0m \u001b[0;34m=\u001b[0m \u001b[0mkwds\u001b[0m\u001b[0;34m[\u001b[0m\u001b[0;34m\"has_index_names\"\u001b[0m\u001b[0;34m]\u001b[0m\u001b[0;34m\u001b[0m\u001b[0;34m\u001b[0m\u001b[0m\n\u001b[1;32m    810\u001b[0m \u001b[0;34m\u001b[0m\u001b[0m\n\u001b[0;32m--> 811\u001b[0;31m         \u001b[0mself\u001b[0m\u001b[0;34m.\u001b[0m\u001b[0m_engine\u001b[0m \u001b[0;34m=\u001b[0m \u001b[0mself\u001b[0m\u001b[0;34m.\u001b[0m\u001b[0m_make_engine\u001b[0m\u001b[0;34m(\u001b[0m\u001b[0mself\u001b[0m\u001b[0;34m.\u001b[0m\u001b[0mengine\u001b[0m\u001b[0;34m)\u001b[0m\u001b[0;34m\u001b[0m\u001b[0;34m\u001b[0m\u001b[0m\n\u001b[0m\u001b[1;32m    812\u001b[0m \u001b[0;34m\u001b[0m\u001b[0m\n\u001b[1;32m    813\u001b[0m     \u001b[0;32mdef\u001b[0m \u001b[0mclose\u001b[0m\u001b[0;34m(\u001b[0m\u001b[0mself\u001b[0m\u001b[0;34m)\u001b[0m\u001b[0;34m:\u001b[0m\u001b[0;34m\u001b[0m\u001b[0;34m\u001b[0m\u001b[0m\n",
            "\u001b[0;32m/usr/local/lib/python3.7/dist-packages/pandas/io/parsers/readers.py\u001b[0m in \u001b[0;36m_make_engine\u001b[0;34m(self, engine)\u001b[0m\n\u001b[1;32m   1038\u001b[0m             )\n\u001b[1;32m   1039\u001b[0m         \u001b[0;31m# error: Too many arguments for \"ParserBase\"\u001b[0m\u001b[0;34m\u001b[0m\u001b[0;34m\u001b[0m\u001b[0;34m\u001b[0m\u001b[0m\n\u001b[0;32m-> 1040\u001b[0;31m         \u001b[0;32mreturn\u001b[0m \u001b[0mmapping\u001b[0m\u001b[0;34m[\u001b[0m\u001b[0mengine\u001b[0m\u001b[0;34m]\u001b[0m\u001b[0;34m(\u001b[0m\u001b[0mself\u001b[0m\u001b[0;34m.\u001b[0m\u001b[0mf\u001b[0m\u001b[0;34m,\u001b[0m \u001b[0;34m**\u001b[0m\u001b[0mself\u001b[0m\u001b[0;34m.\u001b[0m\u001b[0moptions\u001b[0m\u001b[0;34m)\u001b[0m  \u001b[0;31m# type: ignore[call-arg]\u001b[0m\u001b[0;34m\u001b[0m\u001b[0;34m\u001b[0m\u001b[0m\n\u001b[0m\u001b[1;32m   1041\u001b[0m \u001b[0;34m\u001b[0m\u001b[0m\n\u001b[1;32m   1042\u001b[0m     \u001b[0;32mdef\u001b[0m \u001b[0m_failover_to_python\u001b[0m\u001b[0;34m(\u001b[0m\u001b[0mself\u001b[0m\u001b[0;34m)\u001b[0m\u001b[0;34m:\u001b[0m\u001b[0;34m\u001b[0m\u001b[0;34m\u001b[0m\u001b[0m\n",
            "\u001b[0;32m/usr/local/lib/python3.7/dist-packages/pandas/io/parsers/c_parser_wrapper.py\u001b[0m in \u001b[0;36m__init__\u001b[0;34m(self, src, **kwds)\u001b[0m\n\u001b[1;32m     49\u001b[0m \u001b[0;34m\u001b[0m\u001b[0m\n\u001b[1;32m     50\u001b[0m         \u001b[0;31m# open handles\u001b[0m\u001b[0;34m\u001b[0m\u001b[0;34m\u001b[0m\u001b[0;34m\u001b[0m\u001b[0m\n\u001b[0;32m---> 51\u001b[0;31m         \u001b[0mself\u001b[0m\u001b[0;34m.\u001b[0m\u001b[0m_open_handles\u001b[0m\u001b[0;34m(\u001b[0m\u001b[0msrc\u001b[0m\u001b[0;34m,\u001b[0m \u001b[0mkwds\u001b[0m\u001b[0;34m)\u001b[0m\u001b[0;34m\u001b[0m\u001b[0;34m\u001b[0m\u001b[0m\n\u001b[0m\u001b[1;32m     52\u001b[0m         \u001b[0;32massert\u001b[0m \u001b[0mself\u001b[0m\u001b[0;34m.\u001b[0m\u001b[0mhandles\u001b[0m \u001b[0;32mis\u001b[0m \u001b[0;32mnot\u001b[0m \u001b[0;32mNone\u001b[0m\u001b[0;34m\u001b[0m\u001b[0;34m\u001b[0m\u001b[0m\n\u001b[1;32m     53\u001b[0m \u001b[0;34m\u001b[0m\u001b[0m\n",
            "\u001b[0;32m/usr/local/lib/python3.7/dist-packages/pandas/io/parsers/base_parser.py\u001b[0m in \u001b[0;36m_open_handles\u001b[0;34m(self, src, kwds)\u001b[0m\n\u001b[1;32m    227\u001b[0m             \u001b[0mmemory_map\u001b[0m\u001b[0;34m=\u001b[0m\u001b[0mkwds\u001b[0m\u001b[0;34m.\u001b[0m\u001b[0mget\u001b[0m\u001b[0;34m(\u001b[0m\u001b[0;34m\"memory_map\"\u001b[0m\u001b[0;34m,\u001b[0m \u001b[0;32mFalse\u001b[0m\u001b[0;34m)\u001b[0m\u001b[0;34m,\u001b[0m\u001b[0;34m\u001b[0m\u001b[0;34m\u001b[0m\u001b[0m\n\u001b[1;32m    228\u001b[0m             \u001b[0mstorage_options\u001b[0m\u001b[0;34m=\u001b[0m\u001b[0mkwds\u001b[0m\u001b[0;34m.\u001b[0m\u001b[0mget\u001b[0m\u001b[0;34m(\u001b[0m\u001b[0;34m\"storage_options\"\u001b[0m\u001b[0;34m,\u001b[0m \u001b[0;32mNone\u001b[0m\u001b[0;34m)\u001b[0m\u001b[0;34m,\u001b[0m\u001b[0;34m\u001b[0m\u001b[0;34m\u001b[0m\u001b[0m\n\u001b[0;32m--> 229\u001b[0;31m             \u001b[0merrors\u001b[0m\u001b[0;34m=\u001b[0m\u001b[0mkwds\u001b[0m\u001b[0;34m.\u001b[0m\u001b[0mget\u001b[0m\u001b[0;34m(\u001b[0m\u001b[0;34m\"encoding_errors\"\u001b[0m\u001b[0;34m,\u001b[0m \u001b[0;34m\"strict\"\u001b[0m\u001b[0;34m)\u001b[0m\u001b[0;34m,\u001b[0m\u001b[0;34m\u001b[0m\u001b[0;34m\u001b[0m\u001b[0m\n\u001b[0m\u001b[1;32m    230\u001b[0m         )\n\u001b[1;32m    231\u001b[0m \u001b[0;34m\u001b[0m\u001b[0m\n",
            "\u001b[0;32m/usr/local/lib/python3.7/dist-packages/pandas/io/common.py\u001b[0m in \u001b[0;36mget_handle\u001b[0;34m(path_or_buf, mode, encoding, compression, memory_map, is_text, errors, storage_options)\u001b[0m\n\u001b[1;32m    705\u001b[0m                 \u001b[0mencoding\u001b[0m\u001b[0;34m=\u001b[0m\u001b[0mioargs\u001b[0m\u001b[0;34m.\u001b[0m\u001b[0mencoding\u001b[0m\u001b[0;34m,\u001b[0m\u001b[0;34m\u001b[0m\u001b[0;34m\u001b[0m\u001b[0m\n\u001b[1;32m    706\u001b[0m                 \u001b[0merrors\u001b[0m\u001b[0;34m=\u001b[0m\u001b[0merrors\u001b[0m\u001b[0;34m,\u001b[0m\u001b[0;34m\u001b[0m\u001b[0;34m\u001b[0m\u001b[0m\n\u001b[0;32m--> 707\u001b[0;31m                 \u001b[0mnewline\u001b[0m\u001b[0;34m=\u001b[0m\u001b[0;34m\"\"\u001b[0m\u001b[0;34m,\u001b[0m\u001b[0;34m\u001b[0m\u001b[0;34m\u001b[0m\u001b[0m\n\u001b[0m\u001b[1;32m    708\u001b[0m             )\n\u001b[1;32m    709\u001b[0m         \u001b[0;32melse\u001b[0m\u001b[0;34m:\u001b[0m\u001b[0;34m\u001b[0m\u001b[0;34m\u001b[0m\u001b[0m\n",
            "\u001b[0;31mFileNotFoundError\u001b[0m: [Errno 2] No such file or directory: '2d_heat_conduction_in_a_square_plate_abaqus_data.csv'"
          ]
        }
      ],
      "source": [
        "df_abaqus = pd.read_csv(file_path)"
      ]
    },
    {
      "cell_type": "code",
      "execution_count": null,
      "id": "45dd6b43",
      "metadata": {
        "id": "45dd6b43"
      },
      "outputs": [],
      "source": [
        "df_abaqus.set_index('Time ',inplace = True)\n",
        "df_abaqus.rename(columns={'dt = 500 ': 'dt = 500'})"
      ]
    },
    {
      "cell_type": "markdown",
      "id": "e9e806c1",
      "metadata": {
        "id": "e9e806c1"
      },
      "source": [
        "### Analyse temp at centre over time for each time step (plot on same graph)"
      ]
    },
    {
      "cell_type": "code",
      "execution_count": null,
      "id": "02db9bb4",
      "metadata": {
        "id": "02db9bb4"
      },
      "outputs": [],
      "source": [
        "fig, ax = plt.subplots(1,2,figsize=(14, 7))\n",
        "\n",
        "df_abaqus.columns = df_abaqus.columns.str.replace(' ', '')\n",
        "df_merged.columns = df_abaqus.columns.str.replace(' ', '')\n",
        "\n",
        "ax[0].plot(df_merged['dt=250'],'k-')\n",
        "ax[0].plot(df_merged['dt=500'],'k*',linewidth = 2)\n",
        "ax[0].plot(df_merged['dt=1000'],'ko')\n",
        "ax[0].plot(df_merged['dt=2000'],'k+')\n",
        "ax[0].set_xlabel('Time (s)')\n",
        "ax[0].set_ylabel('Temperature (C)')\n",
        "ax[0].set_title('Temperature at Centre of Plate vs Time (FVM)')\n",
        "ax[0].legend(['dt=250','dt=500','dt=1000','dt=2000'] ,prop={'size': 13})\n",
        "ax[1].plot(df_abaqus['dt=250'],'k-')\n",
        "ax[1].plot(df_abaqus['dt=500'],'k*',linewidth = 2)\n",
        "ax[1].plot(df_abaqus['dt=1000'],'ko')\n",
        "ax[1].plot(df_abaqus['dt=2000'],'k+')\n",
        "ax[1].set_xlabel('Time (s)')\n",
        "ax[1].set_ylabel('Temperature (C)')\n",
        "ax[1].set_title('Temperature at Centre of Plate vs Time (Abaqus)')\n",
        "ax[1].legend(['dt=250','dt=500','dt=1000','dt=2000'],prop={'size': 13})\n",
        "\n",
        "plt.savefig('Tovertime.png')\n",
        "\n"
      ]
    },
    {
      "cell_type": "markdown",
      "id": "cf1715a3",
      "metadata": {
        "id": "cf1715a3"
      },
      "source": [
        "### Analyse temperature at t = 4000 on log-log plot"
      ]
    },
    {
      "cell_type": "code",
      "execution_count": null,
      "id": "cd0f817a",
      "metadata": {
        "scrolled": true,
        "id": "cd0f817a"
      },
      "outputs": [],
      "source": [
        "TFVM4k = df_merged.loc[df_merged.index==4000]\n",
        "TAb4k = df_abaqus.loc[df_abaqus.index==4000]\n",
        "\n",
        "# fig, ax =  plt.subplots(1,2,figsize=(14, 7))\n",
        "time_steps = []\n",
        "FVvalues = []\n",
        "Abvalues = []\n",
        "for col in TFVM4k.columns:\n",
        "    dt = (int(col.split('=')[1]))\n",
        "    valueFv = float(TFVM4k[col])\n",
        "    valueAb = float(TAb4k[col])\n",
        "    time_steps.append(dt)\n",
        "    FVvalues.append(valueFv)\n",
        "    Abvalues.append(valueAb)\n",
        "    \n"
      ]
    },
    {
      "cell_type": "code",
      "execution_count": null,
      "id": "44026a6f",
      "metadata": {
        "id": "44026a6f"
      },
      "outputs": [],
      "source": [
        "print(Abvalues)\n",
        "print(FVvalues)"
      ]
    },
    {
      "cell_type": "code",
      "execution_count": null,
      "id": "c63165c2",
      "metadata": {
        "id": "c63165c2"
      },
      "outputs": [],
      "source": [
        "fig, ax = plt.subplots(figsize=(14, 7))\n",
        "ax.plot(time_steps,FVvalues,'k',marker = 'o')\n",
        "ax.set_xscale('log')\n",
        "ax.set_xlabel('Time step (dt)')\n",
        "ax.set_ylabel('Temperature ')\n",
        "ax.set_title('Temperature at Centre of Plate at t=400 at the different time steps')\n",
        "plt.savefig('Tatdt.png')\n"
      ]
    },
    {
      "cell_type": "code",
      "execution_count": null,
      "id": "fd9a39f9",
      "metadata": {
        "id": "fd9a39f9"
      },
      "outputs": [],
      "source": []
    }
  ],
  "metadata": {
    "kernelspec": {
      "display_name": "Python 3 (ipykernel)",
      "language": "python",
      "name": "python3"
    },
    "language_info": {
      "codemirror_mode": {
        "name": "ipython",
        "version": 3
      },
      "file_extension": ".py",
      "mimetype": "text/x-python",
      "name": "python",
      "nbconvert_exporter": "python",
      "pygments_lexer": "ipython3",
      "version": "3.9.12"
    },
    "colab": {
      "provenance": []
    }
  },
  "nbformat": 4,
  "nbformat_minor": 5
}